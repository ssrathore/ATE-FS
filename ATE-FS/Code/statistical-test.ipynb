{
 "cells": [
  {
   "cell_type": "code",
   "execution_count": 1,
   "id": "43cfb714",
   "metadata": {
    "_cell_guid": "b1076dfc-b9ad-4769-8c92-a6c4dae69d19",
    "_uuid": "8f2839f25d086af736a60e9eeb907d3b93b6e0e5",
    "execution": {
     "iopub.execute_input": "2024-05-18T17:24:41.701809Z",
     "iopub.status.busy": "2024-05-18T17:24:41.701340Z",
     "iopub.status.idle": "2024-05-18T17:24:55.379125Z",
     "shell.execute_reply": "2024-05-18T17:24:55.377726Z"
    },
    "papermill": {
     "duration": 13.691347,
     "end_time": "2024-05-18T17:24:55.382257",
     "exception": false,
     "start_time": "2024-05-18T17:24:41.690910",
     "status": "completed"
    },
    "tags": []
   },
   "outputs": [
    {
     "name": "stdout",
     "output_type": "stream",
     "text": [
      "Requirement already satisfied: tabulate in /opt/conda/lib/python3.10/site-packages (0.9.0)\r\n"
     ]
    }
   ],
   "source": [
    "!pip install tabulate"
   ]
  },
  {
   "cell_type": "code",
   "execution_count": 2,
   "id": "7967745b",
   "metadata": {
    "execution": {
     "iopub.execute_input": "2024-05-18T17:24:55.396927Z",
     "iopub.status.busy": "2024-05-18T17:24:55.396559Z",
     "iopub.status.idle": "2024-05-18T17:24:57.428452Z",
     "shell.execute_reply": "2024-05-18T17:24:57.427012Z"
    },
    "papermill": {
     "duration": 2.042568,
     "end_time": "2024-05-18T17:24:57.431299",
     "exception": false,
     "start_time": "2024-05-18T17:24:55.388731",
     "status": "completed"
    },
    "tags": []
   },
   "outputs": [],
   "source": [
    "import pandas as pd\n",
    "import matplotlib.pyplot as plt\n",
    "import numpy as np\n",
    "from scipy.stats import wilcoxon\n",
    "from scipy.stats import mannwhitneyu\n",
    "import tabulate\n",
    "from tabulate import tabulate"
   ]
  },
  {
   "cell_type": "code",
   "execution_count": 3,
   "id": "14c99718",
   "metadata": {
    "execution": {
     "iopub.execute_input": "2024-05-18T17:24:57.445662Z",
     "iopub.status.busy": "2024-05-18T17:24:57.444987Z",
     "iopub.status.idle": "2024-05-18T17:24:57.456131Z",
     "shell.execute_reply": "2024-05-18T17:24:57.454939Z"
    },
    "papermill": {
     "duration": 0.021312,
     "end_time": "2024-05-18T17:24:57.458624",
     "exception": false,
     "start_time": "2024-05-18T17:24:57.437312",
     "status": "completed"
    },
    "tags": []
   },
   "outputs": [],
   "source": [
    "def parsedf(df):\n",
    "    df = df.copy()\n",
    "    df = df[df['dataset'] != '--------']\n",
    "    df.replace('--', np.nan, inplace=True)\n",
    "    \n",
    "    df ['feat_algo'] = df['feat_algo'].astype('string')\n",
    "    df['dataset'] = df['dataset'].str.replace('.csv', '')\n",
    "    df ['feat_algo'] = df['feat_algo'].astype('string')\n",
    "    \n",
    "    columns_to_drop = ['acc', 'mcc', 'g-m']\n",
    "    df = df.drop(columns=columns_to_drop)\n",
    "    \n",
    "    algos1 = ['DropCorrelated1', 'SmartCorrelated1']\n",
    "    algos2 = ['DropCorrelated2', 'SmartCorrelated2']\n",
    "    datasets = ['prop-1', 'prop-2', 'prop-3', 'prop-4', 'mylyn']\n",
    "    \n",
    "    for index, row in df.iterrows():\n",
    "        if type(row['feat_algo']) != type(pd.NA):\n",
    "            if row['feat_algo'] in algos1:\n",
    "                df.at[index, 'feat_algo'] = row['feat_algo'][:-1]\n",
    "            elif row['dataset'] in datasets and row['feat_algo'].endswith('1'):\n",
    "                df.at[index, 'feat_algo'] = row['feat_algo'][:-1]\n",
    "            elif row['dataset'] not in datasets and row['feat_algo'] not in algos2 and row['feat_algo'].endswith('2'):\n",
    "                df.at[index, 'feat_algo'] = row['feat_algo'][:-1]\n",
    "    \n",
    "    return df"
   ]
  },
  {
   "cell_type": "code",
   "execution_count": 4,
   "id": "2964e803",
   "metadata": {
    "execution": {
     "iopub.execute_input": "2024-05-18T17:24:57.473209Z",
     "iopub.status.busy": "2024-05-18T17:24:57.472022Z",
     "iopub.status.idle": "2024-05-18T17:24:57.478740Z",
     "shell.execute_reply": "2024-05-18T17:24:57.477545Z"
    },
    "papermill": {
     "duration": 0.016416,
     "end_time": "2024-05-18T17:24:57.481010",
     "exception": false,
     "start_time": "2024-05-18T17:24:57.464594",
     "status": "completed"
    },
    "tags": []
   },
   "outputs": [],
   "source": [
    "def convert_df(df, col):\n",
    "    return df[col].astype(float)\n",
    "\n",
    "feat_algo = [\n",
    "             'GSMB', \n",
    "             'IAMB',\n",
    "             'ATE-FS',\n",
    "             'Mutual-Info', \n",
    "             'Forward',\n",
    "             'Auto-Spearman',\n",
    "            ]"
   ]
  },
  {
   "cell_type": "code",
   "execution_count": 5,
   "id": "9f838096",
   "metadata": {
    "execution": {
     "iopub.execute_input": "2024-05-18T17:24:57.495322Z",
     "iopub.status.busy": "2024-05-18T17:24:57.494775Z",
     "iopub.status.idle": "2024-05-18T17:24:57.506051Z",
     "shell.execute_reply": "2024-05-18T17:24:57.504494Z"
    },
    "papermill": {
     "duration": 0.022088,
     "end_time": "2024-05-18T17:24:57.508957",
     "exception": false,
     "start_time": "2024-05-18T17:24:57.486869",
     "status": "completed"
    },
    "tags": []
   },
   "outputs": [],
   "source": [
    "def build_table(table, feat_algo_data_list, i, j):\n",
    "    cur_row = []\n",
    "    sub_row = []\n",
    "    \n",
    "    cur_row.append(f\"{feat_algo[i]} vs {feat_algo[j]}\")\n",
    "    cur_row.append(\"p-value\")\n",
    "    for feat_algo_data in feat_algo_data_list:\n",
    "        res = mannwhitneyu(feat_algo_data[feat_algo[i]].values, feat_algo_data[feat_algo[j]].values)\n",
    "        res = round(res.pvalue, 3)\n",
    "        cur_row.append(res)\n",
    "    table.append(cur_row)\n",
    "\n",
    "    sub_row.append(\" \" * len(f\"{feat_algo[i]} vs {feat_algo[j]}\"))  # Indentation\n",
    "    sub_row.append(\"mean-diff\")\n",
    "    for feat_algo_data in feat_algo_data_list:\n",
    "        diff = np.nanmean(feat_algo_data[feat_algo[i]].values) - np.nanmean(feat_algo_data[feat_algo[j]].values)\n",
    "        arrow = \"↑\" if diff > 0 else (\"↓\" if diff < 0 else \"\")\n",
    "        sub_row.append(f\"{abs(round(diff, 2))}{arrow}\")\n",
    "    table.append(sub_row)\n",
    "    \n",
    "\n",
    "def get_mean_res(feat_algo_data_prec, feat_algo_data_rec, feat_algo_data_f1, feat_algo_data_roc, feat_algo_data_bal):\n",
    "    table = []\n",
    "    table.append([\"Techniques\", \"Comparison\", \"Precision\", \"Recall\", \"F1-score\", \"Roc-Auc\", \"Balance\"])\n",
    "    for i in range(0, len(feat_algo)):\n",
    "        for j in range(0, len(feat_algo)):\n",
    "            if i >= j:\n",
    "                continue\n",
    "            \n",
    "            build_table(table, [feat_algo_data_prec, feat_algo_data_rec, feat_algo_data_f1, feat_algo_data_roc, feat_algo_data_bal], i, j)\n",
    "            \n",
    "    return table\n",
    "            "
   ]
  },
  {
   "cell_type": "markdown",
   "id": "76edb1ec",
   "metadata": {
    "papermill": {
     "duration": 0.005903,
     "end_time": "2024-05-18T17:24:57.521342",
     "exception": false,
     "start_time": "2024-05-18T17:24:57.515439",
     "status": "completed"
    },
    "tags": []
   },
   "source": [
    "### KNN"
   ]
  },
  {
   "cell_type": "code",
   "execution_count": 6,
   "id": "14daa139",
   "metadata": {
    "execution": {
     "iopub.execute_input": "2024-05-18T17:24:57.536105Z",
     "iopub.status.busy": "2024-05-18T17:24:57.535665Z",
     "iopub.status.idle": "2024-05-18T17:24:57.716754Z",
     "shell.execute_reply": "2024-05-18T17:24:57.715393Z"
    },
    "papermill": {
     "duration": 0.192203,
     "end_time": "2024-05-18T17:24:57.719894",
     "exception": false,
     "start_time": "2024-05-18T17:24:57.527691",
     "status": "completed"
    },
    "tags": []
   },
   "outputs": [],
   "source": [
    "df = pd.read_csv(\"/kaggle/input/resuts-all/Copy-Final-Results-with-CFS - KNN.csv\")\n",
    "df = parsedf(df)"
   ]
  },
  {
   "cell_type": "code",
   "execution_count": 7,
   "id": "3e683574",
   "metadata": {
    "execution": {
     "iopub.execute_input": "2024-05-18T17:24:57.735193Z",
     "iopub.status.busy": "2024-05-18T17:24:57.734754Z",
     "iopub.status.idle": "2024-05-18T17:24:57.886194Z",
     "shell.execute_reply": "2024-05-18T17:24:57.884236Z"
    },
    "papermill": {
     "duration": 0.162458,
     "end_time": "2024-05-18T17:24:57.888921",
     "exception": false,
     "start_time": "2024-05-18T17:24:57.726463",
     "status": "completed"
    },
    "tags": []
   },
   "outputs": [
    {
     "name": "stdout",
     "output_type": "stream",
     "text": [
      "KNN\n",
      "----------------------------  ----------  ---------  ------  --------  -------  -------\n",
      "Techniques                    Comparison  Precision  Recall  F1-score  Roc-Auc  Balance\n",
      "GSMB vs IAMB                  p-value     0.896      0.808   0.814     0.856    0.924\n",
      "                              mean-diff   0.0↓       0.0↓    0.0↑      0.0↓     0.0↓\n",
      "GSMB vs ATE-FS                p-value     0.003      0.003   0.002     0.1      0.004\n",
      "                              mean-diff   0.04↓      0.05↓   0.05↓     0.03↓    0.04↓\n",
      "GSMB vs Mutual-Info           p-value     0.367      0.0     0.145     0.0      0.0\n",
      "                              mean-diff   0.01↓      0.09↓   0.02↓     0.07↓    0.04↓\n",
      "GSMB vs Forward               p-value     0.083      0.0     0.008     0.0      0.0\n",
      "                              mean-diff   0.02↓      0.09↓   0.04↓     0.08↓    0.05↓\n",
      "GSMB vs Auto-Spearman         p-value     0.124      0.0     0.012     0.477    0.0\n",
      "                              mean-diff   0.02↓      0.09↓   0.03↓     0.01↓    0.04↓\n",
      "IAMB vs ATE-FS                p-value     0.004      0.004   0.001     0.123    0.004\n",
      "                              mean-diff   0.04↓      0.05↓   0.05↓     0.03↓    0.04↓\n",
      "IAMB vs Mutual-Info           p-value     0.409      0.0     0.152     0.0      0.0\n",
      "                              mean-diff   0.01↓      0.09↓   0.02↓     0.07↓    0.04↓\n",
      "IAMB vs Forward               p-value     0.099      0.0     0.007     0.0      0.0\n",
      "                              mean-diff   0.02↓      0.09↓   0.04↓     0.08↓    0.05↓\n",
      "IAMB vs Auto-Spearman         p-value     0.154      0.0     0.01      0.499    0.0\n",
      "                              mean-diff   0.01↓      0.09↓   0.03↓     0.01↓    0.04↓\n",
      "ATE-FS vs Mutual-Info         p-value     0.059      0.016   0.165     0.02     0.889\n",
      "                              mean-diff   0.03↑      0.04↓   0.02↑     0.04↓    0.0↓\n",
      "ATE-FS vs Forward             p-value     0.274      0.015   0.621     0.015    0.381\n",
      "                              mean-diff   0.02↑      0.04↓   0.01↑     0.05↓    0.01↓\n",
      "ATE-FS vs Auto-Spearman       p-value     0.154      0.01    0.45      0.228    0.566\n",
      "                              mean-diff   0.02↑      0.04↓   0.01↑     0.02↑    0.01↓\n",
      "Mutual-Info vs Forward        p-value     0.41       0.62    0.306     0.677    0.405\n",
      "                              mean-diff   0.01↓      0.0↓    0.02↓     0.01↓    0.01↓\n",
      "Mutual-Info vs Auto-Spearman  p-value     0.578      0.677   0.499     0.0      0.444\n",
      "                              mean-diff   0.0↓       0.0↓    0.01↓     0.06↑    0.0↓\n",
      "Forward vs Auto-Spearman      p-value     0.748      0.761   0.761     0.0      0.683\n",
      "                              mean-diff   0.01↑      0.0↑    0.01↑     0.07↑    0.0↑\n",
      "----------------------------  ----------  ---------  ------  --------  -------  -------\n"
     ]
    }
   ],
   "source": [
    "feat_algo_data_prec = { }\n",
    "for algo in feat_algo:\n",
    "    feat_algo_data_prec[algo] = df[df['feat_algo'] == algo]\n",
    "for algo in feat_algo:\n",
    "    feat_algo_data_prec[algo] = convert_df(feat_algo_data_prec[algo], 'prec')\n",
    "   \n",
    "feat_algo_data_rec = { }\n",
    "for algo in feat_algo:\n",
    "    feat_algo_data_rec[algo] = df[df['feat_algo'] == algo]\n",
    "for algo in feat_algo:\n",
    "    feat_algo_data_rec[algo] = convert_df(feat_algo_data_rec[algo], 'recall')\n",
    " \n",
    "feat_algo_data_f1 = { }\n",
    "for algo in feat_algo:\n",
    "    feat_algo_data_f1[algo] = df[df['feat_algo'] == algo]\n",
    "for algo in feat_algo:\n",
    "    feat_algo_data_f1[algo] = convert_df(feat_algo_data_f1[algo], 'f1')\n",
    "    \n",
    "feat_algo_data_roc = { }\n",
    "for algo in feat_algo:\n",
    "    feat_algo_data_roc[algo] = df[df['feat_algo'] == algo]\n",
    "for algo in feat_algo:\n",
    "    feat_algo_data_roc[algo] = convert_df(feat_algo_data_roc[algo], 'roc_auc')\n",
    "    \n",
    "\n",
    "feat_algo_data_bal = { }\n",
    "for algo in feat_algo:\n",
    "    feat_algo_data_bal[algo] = df[df['feat_algo'] == algo]\n",
    "for algo in feat_algo:\n",
    "    feat_algo_data_bal[algo] = convert_df(feat_algo_data_bal[algo], 'bal')\n",
    "    \n",
    "print(\"KNN\")\n",
    "print(tabulate(get_mean_res(feat_algo_data_prec, feat_algo_data_rec, feat_algo_data_f1, feat_algo_data_roc, feat_algo_data_bal)))"
   ]
  },
  {
   "cell_type": "markdown",
   "id": "61bad5cd",
   "metadata": {
    "papermill": {
     "duration": 0.005646,
     "end_time": "2024-05-18T17:24:57.900720",
     "exception": false,
     "start_time": "2024-05-18T17:24:57.895074",
     "status": "completed"
    },
    "tags": []
   },
   "source": [
    "### Decision Tree"
   ]
  },
  {
   "cell_type": "code",
   "execution_count": 8,
   "id": "3a6204a5",
   "metadata": {
    "execution": {
     "iopub.execute_input": "2024-05-18T17:24:57.914535Z",
     "iopub.status.busy": "2024-05-18T17:24:57.914070Z",
     "iopub.status.idle": "2024-05-18T17:24:58.062027Z",
     "shell.execute_reply": "2024-05-18T17:24:58.060351Z"
    },
    "papermill": {
     "duration": 0.158586,
     "end_time": "2024-05-18T17:24:58.065266",
     "exception": false,
     "start_time": "2024-05-18T17:24:57.906680",
     "status": "completed"
    },
    "tags": []
   },
   "outputs": [],
   "source": [
    "df = pd.read_csv(\"/kaggle/input/resuts-all/Copy-Final-Results-with-CFS - Decision Tree.csv\")\n",
    "df = parsedf(df)"
   ]
  },
  {
   "cell_type": "code",
   "execution_count": 9,
   "id": "8fd61ce4",
   "metadata": {
    "execution": {
     "iopub.execute_input": "2024-05-18T17:24:58.080230Z",
     "iopub.status.busy": "2024-05-18T17:24:58.079838Z",
     "iopub.status.idle": "2024-05-18T17:24:58.224794Z",
     "shell.execute_reply": "2024-05-18T17:24:58.223715Z"
    },
    "papermill": {
     "duration": 0.15572,
     "end_time": "2024-05-18T17:24:58.227611",
     "exception": false,
     "start_time": "2024-05-18T17:24:58.071891",
     "status": "completed"
    },
    "tags": []
   },
   "outputs": [
    {
     "name": "stdout",
     "output_type": "stream",
     "text": [
      "Decision Tree\n",
      "----------------------------  ----------  ---------  ------  --------  -------  -------\n",
      "Techniques                    Comparison  Precision  Recall  F1-score  Roc-Auc  Balance\n",
      "GSMB vs IAMB                  p-value     0.945      0.715   0.869     0.883    0.841\n",
      "                              mean-diff   0.0↓       0.0↓    0.0↑      0.0↑     0.0↑\n",
      "GSMB vs ATE-FS                p-value     0.002      0.221   0.008     0.027    0.012\n",
      "                              mean-diff   0.06↓      0.02↓   0.04↓     0.04↓    0.03↓\n",
      "GSMB vs Mutual-Info           p-value     0.014      0.001   0.008     0.002    0.0\n",
      "                              mean-diff   0.04↓      0.04↓   0.04↓     0.05↓    0.04↓\n",
      "GSMB vs Forward               p-value     0.006      0.002   0.002     0.0      0.0\n",
      "                              mean-diff   0.05↓      0.04↓   0.05↓     0.06↓    0.04↓\n",
      "GSMB vs Auto-Spearman         p-value     0.003      0.005   0.001     0.012    0.001\n",
      "                              mean-diff   0.04↓      0.04↓   0.05↓     0.04↑    0.04↓\n",
      "IAMB vs ATE-FS                p-value     0.001      0.29    0.005     0.023    0.009\n",
      "                              mean-diff   0.06↓      0.02↓   0.05↓     0.04↓    0.03↓\n",
      "IAMB vs Mutual-Info           p-value     0.011      0.003   0.005     0.002    0.0\n",
      "                              mean-diff   0.04↓      0.04↓   0.04↓     0.05↓    0.04↓\n",
      "IAMB vs Forward               p-value     0.006      0.006   0.002     0.0      0.0\n",
      "                              mean-diff   0.04↓      0.04↓   0.05↓     0.06↓    0.04↓\n",
      "IAMB vs Auto-Spearman         p-value     0.002      0.006   0.001     0.022    0.0\n",
      "                              mean-diff   0.04↓      0.04↓   0.05↓     0.04↑    0.04↓\n",
      "ATE-FS vs Mutual-Info         p-value     0.282      0.14    0.795     0.89     0.366\n",
      "                              mean-diff   0.02↑      0.02↓   0.0↑      0.01↓    0.01↓\n",
      "ATE-FS vs Forward             p-value     0.562      0.141   0.755     0.256    0.331\n",
      "                              mean-diff   0.01↑      0.02↓   0.0↓      0.02↓    0.01↓\n",
      "ATE-FS vs Auto-Spearman       p-value     0.585      0.158   0.729     0.0      0.297\n",
      "                              mean-diff   0.01↑      0.02↓   0.0↓      0.08↑    0.01↓\n",
      "Mutual-Info vs Forward        p-value     0.658      0.91    0.591     0.252    0.721\n",
      "                              mean-diff   0.01↓      0.0↓    0.01↓     0.02↓    0.0↓\n",
      "Mutual-Info vs Auto-Spearman  p-value     0.579      0.788   0.527     0.0      0.903\n",
      "                              mean-diff   0.0↓       0.0↑    0.01↓     0.08↑    0.0↑\n",
      "Forward vs Auto-Spearman      p-value     0.972      0.965   0.938     0.0      0.855\n",
      "                              mean-diff   0.0↑       0.0↑    0.0↑      0.1↑     0.0↑\n",
      "----------------------------  ----------  ---------  ------  --------  -------  -------\n"
     ]
    }
   ],
   "source": [
    "feat_algo_data_prec = { }\n",
    "for algo in feat_algo:\n",
    "    feat_algo_data_prec[algo] = df[df['feat_algo'] == algo]\n",
    "for algo in feat_algo:\n",
    "    feat_algo_data_prec[algo] = convert_df(feat_algo_data_prec[algo], 'prec')\n",
    "   \n",
    "feat_algo_data_rec = { }\n",
    "for algo in feat_algo:\n",
    "    feat_algo_data_rec[algo] = df[df['feat_algo'] == algo]\n",
    "for algo in feat_algo:\n",
    "    feat_algo_data_rec[algo] = convert_df(feat_algo_data_rec[algo], 'recall')\n",
    " \n",
    "feat_algo_data_f1 = { }\n",
    "for algo in feat_algo:\n",
    "    feat_algo_data_f1[algo] = df[df['feat_algo'] == algo]\n",
    "for algo in feat_algo:\n",
    "    feat_algo_data_f1[algo] = convert_df(feat_algo_data_f1[algo], 'f1')\n",
    "    \n",
    "feat_algo_data_roc = { }\n",
    "for algo in feat_algo:\n",
    "    feat_algo_data_roc[algo] = df[df['feat_algo'] == algo]\n",
    "for algo in feat_algo:\n",
    "    feat_algo_data_roc[algo] = convert_df(feat_algo_data_roc[algo], 'roc_auc')\n",
    "    \n",
    "\n",
    "feat_algo_data_bal = { }\n",
    "for algo in feat_algo:\n",
    "    feat_algo_data_bal[algo] = df[df['feat_algo'] == algo]\n",
    "for algo in feat_algo:\n",
    "    feat_algo_data_bal[algo] = convert_df(feat_algo_data_bal[algo], 'bal')\n",
    "    \n",
    "print(\"Decision Tree\")\n",
    "print(tabulate(get_mean_res(feat_algo_data_prec, feat_algo_data_rec, feat_algo_data_f1, feat_algo_data_roc, feat_algo_data_bal)))"
   ]
  },
  {
   "cell_type": "markdown",
   "id": "90962cf7",
   "metadata": {
    "papermill": {
     "duration": 0.005815,
     "end_time": "2024-05-18T17:24:58.239678",
     "exception": false,
     "start_time": "2024-05-18T17:24:58.233863",
     "status": "completed"
    },
    "tags": []
   },
   "source": [
    "### Logistic Regression"
   ]
  },
  {
   "cell_type": "code",
   "execution_count": 10,
   "id": "04abc750",
   "metadata": {
    "execution": {
     "iopub.execute_input": "2024-05-18T17:24:58.253401Z",
     "iopub.status.busy": "2024-05-18T17:24:58.253000Z",
     "iopub.status.idle": "2024-05-18T17:24:58.402827Z",
     "shell.execute_reply": "2024-05-18T17:24:58.401431Z"
    },
    "papermill": {
     "duration": 0.160028,
     "end_time": "2024-05-18T17:24:58.405750",
     "exception": false,
     "start_time": "2024-05-18T17:24:58.245722",
     "status": "completed"
    },
    "tags": []
   },
   "outputs": [],
   "source": [
    "df = pd.read_csv(\"/kaggle/input/resuts-all/Copy-Final-Results-with-CFS - Logistic Regression.csv\")\n",
    "df = parsedf(df)"
   ]
  },
  {
   "cell_type": "code",
   "execution_count": 11,
   "id": "5e6c14ad",
   "metadata": {
    "execution": {
     "iopub.execute_input": "2024-05-18T17:24:58.421491Z",
     "iopub.status.busy": "2024-05-18T17:24:58.420998Z",
     "iopub.status.idle": "2024-05-18T17:24:58.567490Z",
     "shell.execute_reply": "2024-05-18T17:24:58.566001Z"
    },
    "papermill": {
     "duration": 0.158038,
     "end_time": "2024-05-18T17:24:58.570566",
     "exception": false,
     "start_time": "2024-05-18T17:24:58.412528",
     "status": "completed"
    },
    "tags": []
   },
   "outputs": [
    {
     "name": "stdout",
     "output_type": "stream",
     "text": [
      "Logistic Regression\n",
      "----------------------------  ----------  ---------  ------  --------  -------  -------\n",
      "Techniques                    Comparison  Precision  Recall  F1-score  Roc-Auc  Balance\n",
      "GSMB vs IAMB                  p-value     1.0        0.835   0.972     0.835    0.972\n",
      "                              mean-diff   0.0↑       0.0↑    0.0↑      0.0↑     0.0↑\n",
      "GSMB vs ATE-FS                p-value     0.004      0.007   0.0       0.0      0.0\n",
      "                              mean-diff   0.05↓      0.05↓   0.08↓     0.12↓    0.09↓\n",
      "GSMB vs Mutual-Info           p-value     0.006      0.002   0.001     0.002    0.0\n",
      "                              mean-diff   0.04↓      0.05↓   0.06↓     0.05↓    0.06↓\n",
      "GSMB vs Forward               p-value     0.003      0.001   0.0       0.001    0.0\n",
      "                              mean-diff   0.04↓      0.06↓   0.09↓     0.06↓    0.09↓\n",
      "GSMB vs Auto-Spearman         p-value     0.005      0.001   0.0       0.001    0.0\n",
      "                              mean-diff   0.03↓      0.06↓   0.07↓     0.06↓    0.08↓\n",
      "IAMB vs ATE-FS                p-value     0.004      0.006   0.0       0.0      0.0\n",
      "                              mean-diff   0.05↓      0.05↓   0.08↓     0.12↓    0.09↓\n",
      "IAMB vs Mutual-Info           p-value     0.005      0.002   0.001     0.002    0.0\n",
      "                              mean-diff   0.04↓      0.05↓   0.06↓     0.05↓    0.06↓\n",
      "IAMB vs Forward               p-value     0.003      0.001   0.0       0.001    0.0\n",
      "                              mean-diff   0.05↓      0.06↓   0.09↓     0.06↓    0.09↓\n",
      "IAMB vs Auto-Spearman         p-value     0.005      0.001   0.0       0.001    0.0\n",
      "                              mean-diff   0.03↓      0.06↓   0.07↓     0.06↓    0.08↓\n",
      "ATE-FS vs Mutual-Info         p-value     0.755      0.788   0.938     0.001    0.903\n",
      "                              mean-diff   0.01↑      0.0↓    0.03↑     0.07↑    0.02↑\n",
      "ATE-FS vs Forward             p-value     0.89       0.315   0.634     0.003    0.41\n",
      "                              mean-diff   0.0↑       0.01↓   0.0↓      0.06↑    0.01↓\n",
      "ATE-FS vs Auto-Spearman       p-value     0.715      0.585   0.665     0.001    0.561\n",
      "                              mean-diff   0.01↑      0.01↓   0.01↑     0.06↑    0.0↑\n",
      "Mutual-Info vs Forward        p-value     0.69       0.271   0.652     0.271    0.499\n",
      "                              mean-diff   0.01↓      0.01↓   0.03↓     0.01↓    0.03↓\n",
      "Mutual-Info vs Auto-Spearman  p-value     0.788      0.808   0.646     0.808    0.395\n",
      "                              mean-diff   0.0↑       0.01↓   0.02↓     0.01↓    0.02↓\n",
      "Forward vs Auto-Spearman      p-value     0.537      0.306   0.298     0.306    0.093\n",
      "                              mean-diff   0.01↑      0.0↑    0.01↑     0.0↑     0.01↑\n",
      "----------------------------  ----------  ---------  ------  --------  -------  -------\n"
     ]
    }
   ],
   "source": [
    "feat_algo_data_prec = { }\n",
    "for algo in feat_algo:\n",
    "    feat_algo_data_prec[algo] = df[df['feat_algo'] == algo]\n",
    "for algo in feat_algo:\n",
    "    feat_algo_data_prec[algo] = convert_df(feat_algo_data_prec[algo], 'prec')\n",
    "   \n",
    "feat_algo_data_rec = { }\n",
    "for algo in feat_algo:\n",
    "    feat_algo_data_rec[algo] = df[df['feat_algo'] == algo]\n",
    "for algo in feat_algo:\n",
    "    feat_algo_data_rec[algo] = convert_df(feat_algo_data_rec[algo], 'recall')\n",
    " \n",
    "feat_algo_data_f1 = { }\n",
    "for algo in feat_algo:\n",
    "    feat_algo_data_f1[algo] = df[df['feat_algo'] == algo]\n",
    "for algo in feat_algo:\n",
    "    feat_algo_data_f1[algo] = convert_df(feat_algo_data_f1[algo], 'f1')\n",
    "    \n",
    "feat_algo_data_roc = { }\n",
    "for algo in feat_algo:\n",
    "    feat_algo_data_roc[algo] = df[df['feat_algo'] == algo]\n",
    "for algo in feat_algo:\n",
    "    feat_algo_data_roc[algo] = convert_df(feat_algo_data_roc[algo], 'roc_auc')\n",
    "    \n",
    "\n",
    "feat_algo_data_bal = { }\n",
    "for algo in feat_algo:\n",
    "    feat_algo_data_bal[algo] = df[df['feat_algo'] == algo]\n",
    "for algo in feat_algo:\n",
    "    feat_algo_data_bal[algo] = convert_df(feat_algo_data_bal[algo], 'bal')\n",
    "    \n",
    "print(\"Logistic Regression\")\n",
    "print(tabulate(get_mean_res(feat_algo_data_prec, feat_algo_data_rec, feat_algo_data_f1, feat_algo_data_roc, feat_algo_data_bal)))"
   ]
  },
  {
   "cell_type": "markdown",
   "id": "93e07efa",
   "metadata": {
    "papermill": {
     "duration": 0.006174,
     "end_time": "2024-05-18T17:24:58.583730",
     "exception": false,
     "start_time": "2024-05-18T17:24:58.577556",
     "status": "completed"
    },
    "tags": []
   },
   "source": [
    "### Random Forest"
   ]
  },
  {
   "cell_type": "code",
   "execution_count": 12,
   "id": "4c5f7287",
   "metadata": {
    "execution": {
     "iopub.execute_input": "2024-05-18T17:24:58.598814Z",
     "iopub.status.busy": "2024-05-18T17:24:58.598372Z",
     "iopub.status.idle": "2024-05-18T17:24:58.745029Z",
     "shell.execute_reply": "2024-05-18T17:24:58.743929Z"
    },
    "papermill": {
     "duration": 0.158062,
     "end_time": "2024-05-18T17:24:58.748160",
     "exception": false,
     "start_time": "2024-05-18T17:24:58.590098",
     "status": "completed"
    },
    "tags": []
   },
   "outputs": [],
   "source": [
    "df = pd.read_csv(\"/kaggle/input/resuts-all/Copy-Final-Results-with-CFS - RandomForest.csv\")\n",
    "df = parsedf(df)"
   ]
  },
  {
   "cell_type": "code",
   "execution_count": 13,
   "id": "e5628add",
   "metadata": {
    "execution": {
     "iopub.execute_input": "2024-05-18T17:24:58.763331Z",
     "iopub.status.busy": "2024-05-18T17:24:58.762953Z",
     "iopub.status.idle": "2024-05-18T17:24:58.902761Z",
     "shell.execute_reply": "2024-05-18T17:24:58.901832Z"
    },
    "papermill": {
     "duration": 0.150627,
     "end_time": "2024-05-18T17:24:58.905516",
     "exception": false,
     "start_time": "2024-05-18T17:24:58.754889",
     "status": "completed"
    },
    "tags": []
   },
   "outputs": [
    {
     "name": "stdout",
     "output_type": "stream",
     "text": [
      "Random Forest\n",
      "----------------------------  ----------  ---------  ------  --------  -------  -------\n",
      "Techniques                    Comparison  Precision  Recall  F1-score  Roc-Auc  Balance\n",
      "GSMB vs IAMB                  p-value     0.788      0.876   0.715     0.89     0.626\n",
      "                              mean-diff   0.0↑       0.0↑    0.0↑      0.0↑     0.0↑\n",
      "GSMB vs ATE-FS                p-value     0.019      0.282   0.094     0.023    0.097\n",
      "                              mean-diff   0.05↓      0.02↓   0.04↓     0.04↓    0.02↓\n",
      "GSMB vs Mutual-Info           p-value     0.014      0.001   0.005     0.0      0.0\n",
      "                              mean-diff   0.04↓      0.05↓   0.05↓     0.06↓    0.04↓\n",
      "GSMB vs Forward               p-value     0.017      0.005   0.005     0.001    0.001\n",
      "                              mean-diff   0.04↓      0.04↓   0.05↓     0.07↓    0.04↓\n",
      "GSMB vs Auto-Spearman         p-value     0.0        0.066   0.001     0.0      0.006\n",
      "                              mean-diff   0.09↓      0.03↓   0.06↓     0.08↑    0.03↓\n",
      "IAMB vs ATE-FS                p-value     0.012      0.253   0.052     0.021    0.059\n",
      "                              mean-diff   0.05↓      0.02↓   0.04↓     0.04↓    0.03↓\n",
      "IAMB vs Mutual-Info           p-value     0.008      0.001   0.002     0.0      0.0\n",
      "                              mean-diff   0.04↓      0.05↓   0.05↓     0.07↓    0.04↓\n",
      "IAMB vs Forward               p-value     0.011      0.004   0.002     0.001    0.0\n",
      "                              mean-diff   0.04↓      0.05↓   0.05↓     0.07↓    0.04↓\n",
      "IAMB vs Auto-Spearman         p-value     0.0        0.062   0.001     0.0      0.003\n",
      "                              mean-diff   0.1↓       0.03↓   0.07↓     0.08↑    0.04↓\n",
      "ATE-FS vs Mutual-Info         p-value     0.742      0.105   0.639     0.186    0.145\n",
      "                              mean-diff   0.01↑      0.03↓   0.01↓     0.02↓    0.02↓\n",
      "ATE-FS vs Forward             p-value     0.671      0.177   0.671     0.141    0.241\n",
      "                              mean-diff   0.01↑      0.02↓   0.01↓     0.02↓    0.01↓\n",
      "ATE-FS vs Auto-Spearman       p-value     0.041      0.533   0.194     0.0      0.41\n",
      "                              mean-diff   0.04↓      0.01↓   0.02↓     0.12↑    0.01↓\n",
      "Mutual-Info vs Forward        p-value     1.0        0.658   0.993     0.584    0.572\n",
      "                              mean-diff   0.0↑       0.0↑    0.0       0.0↓     0.0↑\n",
      "Mutual-Info vs Auto-Spearman  p-value     0.008      0.286   0.283     0.0      0.572\n",
      "                              mean-diff   0.05↓      0.02↑   0.02↓     0.15↑    0.01↑\n",
      "Forward vs Auto-Spearman      p-value     0.007      0.483   0.286     0.0      0.944\n",
      "                              mean-diff   0.05↓      0.01↑   0.02↓     0.15↑    0.0↑\n",
      "----------------------------  ----------  ---------  ------  --------  -------  -------\n"
     ]
    }
   ],
   "source": [
    "feat_algo_data_prec = { }\n",
    "for algo in feat_algo:\n",
    "    feat_algo_data_prec[algo] = df[df['feat_algo'] == algo]\n",
    "for algo in feat_algo:\n",
    "    feat_algo_data_prec[algo] = convert_df(feat_algo_data_prec[algo], 'prec')\n",
    "   \n",
    "feat_algo_data_rec = { }\n",
    "for algo in feat_algo:\n",
    "    feat_algo_data_rec[algo] = df[df['feat_algo'] == algo]\n",
    "for algo in feat_algo:\n",
    "    feat_algo_data_rec[algo] = convert_df(feat_algo_data_rec[algo], 'recall')\n",
    " \n",
    "feat_algo_data_f1 = { }\n",
    "for algo in feat_algo:\n",
    "    feat_algo_data_f1[algo] = df[df['feat_algo'] == algo]\n",
    "for algo in feat_algo:\n",
    "    feat_algo_data_f1[algo] = convert_df(feat_algo_data_f1[algo], 'f1')\n",
    "    \n",
    "feat_algo_data_roc = { }\n",
    "for algo in feat_algo:\n",
    "    feat_algo_data_roc[algo] = df[df['feat_algo'] == algo]\n",
    "for algo in feat_algo:\n",
    "    feat_algo_data_roc[algo] = convert_df(feat_algo_data_roc[algo], 'roc_auc')\n",
    "    \n",
    "\n",
    "feat_algo_data_bal = { }\n",
    "for algo in feat_algo:\n",
    "    feat_algo_data_bal[algo] = df[df['feat_algo'] == algo]\n",
    "for algo in feat_algo:\n",
    "    feat_algo_data_bal[algo] = convert_df(feat_algo_data_bal[algo], 'bal')\n",
    "    \n",
    "print(\"Random Forest\")\n",
    "print(tabulate(get_mean_res(feat_algo_data_prec, feat_algo_data_rec, feat_algo_data_f1, feat_algo_data_roc, feat_algo_data_bal)))"
   ]
  },
  {
   "cell_type": "markdown",
   "id": "3549d202",
   "metadata": {
    "papermill": {
     "duration": 0.006089,
     "end_time": "2024-05-18T17:24:58.918045",
     "exception": false,
     "start_time": "2024-05-18T17:24:58.911956",
     "status": "completed"
    },
    "tags": []
   },
   "source": [
    "### SVM"
   ]
  },
  {
   "cell_type": "code",
   "execution_count": 14,
   "id": "b6b00e79",
   "metadata": {
    "execution": {
     "iopub.execute_input": "2024-05-18T17:24:58.932631Z",
     "iopub.status.busy": "2024-05-18T17:24:58.932194Z",
     "iopub.status.idle": "2024-05-18T17:24:59.076230Z",
     "shell.execute_reply": "2024-05-18T17:24:59.074919Z"
    },
    "papermill": {
     "duration": 0.154592,
     "end_time": "2024-05-18T17:24:59.079130",
     "exception": false,
     "start_time": "2024-05-18T17:24:58.924538",
     "status": "completed"
    },
    "tags": []
   },
   "outputs": [],
   "source": [
    "df = pd.read_csv(\"/kaggle/input/resuts-all/Copy-Final-Results-with-CFS - SVM.csv\")\n",
    "df = parsedf(df)"
   ]
  },
  {
   "cell_type": "code",
   "execution_count": 15,
   "id": "67c6f150",
   "metadata": {
    "execution": {
     "iopub.execute_input": "2024-05-18T17:24:59.094144Z",
     "iopub.status.busy": "2024-05-18T17:24:59.093253Z",
     "iopub.status.idle": "2024-05-18T17:24:59.232451Z",
     "shell.execute_reply": "2024-05-18T17:24:59.231356Z"
    },
    "papermill": {
     "duration": 0.149537,
     "end_time": "2024-05-18T17:24:59.235129",
     "exception": false,
     "start_time": "2024-05-18T17:24:59.085592",
     "status": "completed"
    },
    "tags": []
   },
   "outputs": [
    {
     "name": "stdout",
     "output_type": "stream",
     "text": [
      "SVM\n",
      "----------------------------  ----------  ---------  ------  --------  -------  -------\n",
      "Techniques                    Comparison  Precision  Recall  F1-score  Roc-Auc  Balance\n",
      "GSMB vs IAMB                  p-value     0.896      0.924   0.876     0.924    0.89\n",
      "                              mean-diff   0.0↑       0.0↑    0.0↑      0.0↑     0.0↑\n",
      "GSMB vs ATE-FS                p-value     0.001      0.008   0.0       0.008    0.0\n",
      "                              mean-diff   0.05↓      0.06↓   0.11↓     0.06↓    0.13↓\n",
      "GSMB vs Mutual-Info           p-value     0.003      0.003   0.0       0.003    0.0\n",
      "                              mean-diff   0.04↓      0.06↓   0.09↓     0.06↓    0.12↓\n",
      "GSMB vs Forward               p-value     0.002      0.014   0.0       0.014    0.0\n",
      "                              mean-diff   0.04↓      0.05↓   0.1↓      0.05↓    0.11↓\n",
      "GSMB vs Auto-Spearman         p-value     0.007      0.048   0.0       0.048    0.0\n",
      "                              mean-diff   0.03↓      0.04↓   0.09↓     0.04↓    0.11↓\n",
      "IAMB vs ATE-FS                p-value     0.001      0.006   0.0       0.006    0.0\n",
      "                              mean-diff   0.05↓      0.06↓   0.11↓     0.06↓    0.13↓\n",
      "IAMB vs Mutual-Info           p-value     0.003      0.002   0.0       0.002    0.0\n",
      "                              mean-diff   0.04↓      0.06↓   0.09↓     0.06↓    0.12↓\n",
      "IAMB vs Forward               p-value     0.002      0.011   0.0       0.011    0.0\n",
      "                              mean-diff   0.04↓      0.05↓   0.1↓      0.05↓    0.12↓\n",
      "IAMB vs Auto-Spearman         p-value     0.006      0.031   0.0       0.031    0.0\n",
      "                              mean-diff   0.03↓      0.04↓   0.09↓     0.04↓    0.11↓\n",
      "ATE-FS vs Mutual-Info         p-value     0.481      0.781   0.286     0.781    0.204\n",
      "                              mean-diff   0.01↑      0.0↓    0.02↑     0.0↓     0.01↑\n",
      "ATE-FS vs Forward             p-value     0.808      0.788   0.729     0.788    0.34\n",
      "                              mean-diff   0.01↑      0.01↑   0.01↑     0.01↑    0.02↑\n",
      "ATE-FS vs Auto-Spearman       p-value     0.405      0.199   0.311     0.199    0.193\n",
      "                              mean-diff   0.02↑      0.02↑   0.02↑     0.02↑    0.02↑\n",
      "Mutual-Info vs Forward        p-value     0.627      0.945   0.505     0.945    0.972\n",
      "                              mean-diff   0.0↑       0.01↑   0.01↓     0.01↑    0.0↑\n",
      "Mutual-Info vs Auto-Spearman  p-value     0.821      0.19    0.815     0.19     0.69\n",
      "                              mean-diff   0.0↑       0.02↑   0.0↑      0.02↑    0.01↑\n",
      "Forward vs Auto-Spearman      p-value     0.488      0.306   0.488     0.306    0.585\n",
      "                              mean-diff   0.0↑       0.01↑   0.01↑     0.01↑    0.0↑\n",
      "----------------------------  ----------  ---------  ------  --------  -------  -------\n"
     ]
    }
   ],
   "source": [
    "feat_algo_data_prec = { }\n",
    "for algo in feat_algo:\n",
    "    feat_algo_data_prec[algo] = df[df['feat_algo'] == algo]\n",
    "for algo in feat_algo:\n",
    "    feat_algo_data_prec[algo] = convert_df(feat_algo_data_prec[algo], 'prec')\n",
    "   \n",
    "feat_algo_data_rec = { }\n",
    "for algo in feat_algo:\n",
    "    feat_algo_data_rec[algo] = df[df['feat_algo'] == algo]\n",
    "for algo in feat_algo:\n",
    "    feat_algo_data_rec[algo] = convert_df(feat_algo_data_rec[algo], 'recall')\n",
    " \n",
    "feat_algo_data_f1 = { }\n",
    "for algo in feat_algo:\n",
    "    feat_algo_data_f1[algo] = df[df['feat_algo'] == algo]\n",
    "for algo in feat_algo:\n",
    "    feat_algo_data_f1[algo] = convert_df(feat_algo_data_f1[algo], 'f1')\n",
    "    \n",
    "feat_algo_data_roc = { }\n",
    "for algo in feat_algo:\n",
    "    feat_algo_data_roc[algo] = df[df['feat_algo'] == algo]\n",
    "for algo in feat_algo:\n",
    "    feat_algo_data_roc[algo] = convert_df(feat_algo_data_roc[algo], 'roc_auc')\n",
    "    \n",
    "\n",
    "feat_algo_data_bal = { }\n",
    "for algo in feat_algo:\n",
    "    feat_algo_data_bal[algo] = df[df['feat_algo'] == algo]\n",
    "for algo in feat_algo:\n",
    "    feat_algo_data_bal[algo] = convert_df(feat_algo_data_bal[algo], 'bal')\n",
    "    \n",
    "print(\"SVM\")\n",
    "print(tabulate(get_mean_res(feat_algo_data_prec, feat_algo_data_rec, feat_algo_data_f1, feat_algo_data_roc, feat_algo_data_bal)))"
   ]
  },
  {
   "cell_type": "markdown",
   "id": "1d6f927a",
   "metadata": {
    "papermill": {
     "duration": 0.006748,
     "end_time": "2024-05-18T17:24:59.249497",
     "exception": false,
     "start_time": "2024-05-18T17:24:59.242749",
     "status": "completed"
    },
    "tags": []
   },
   "source": [
    "### XgBoost"
   ]
  },
  {
   "cell_type": "code",
   "execution_count": 16,
   "id": "9d2b5673",
   "metadata": {
    "execution": {
     "iopub.execute_input": "2024-05-18T17:24:59.265476Z",
     "iopub.status.busy": "2024-05-18T17:24:59.265066Z",
     "iopub.status.idle": "2024-05-18T17:24:59.410373Z",
     "shell.execute_reply": "2024-05-18T17:24:59.409323Z"
    },
    "papermill": {
     "duration": 0.156812,
     "end_time": "2024-05-18T17:24:59.413383",
     "exception": false,
     "start_time": "2024-05-18T17:24:59.256571",
     "status": "completed"
    },
    "tags": []
   },
   "outputs": [],
   "source": [
    "df = pd.read_csv(\"/kaggle/input/resuts-all/Copy-Final-Results-with-CFS - XgBoost.csv\")\n",
    "df = parsedf(df)"
   ]
  },
  {
   "cell_type": "code",
   "execution_count": 17,
   "id": "bc018cbe",
   "metadata": {
    "execution": {
     "iopub.execute_input": "2024-05-18T17:24:59.429385Z",
     "iopub.status.busy": "2024-05-18T17:24:59.429006Z",
     "iopub.status.idle": "2024-05-18T17:24:59.570498Z",
     "shell.execute_reply": "2024-05-18T17:24:59.569187Z"
    },
    "papermill": {
     "duration": 0.152477,
     "end_time": "2024-05-18T17:24:59.572836",
     "exception": false,
     "start_time": "2024-05-18T17:24:59.420359",
     "status": "completed"
    },
    "tags": []
   },
   "outputs": [
    {
     "name": "stdout",
     "output_type": "stream",
     "text": [
      "XgBoost\n",
      "----------------------------  ----------  ---------  ------  --------  -------  -------\n",
      "Techniques                    Comparison  Precision  Recall  F1-score  Roc-Auc  Balance\n",
      "GSMB vs IAMB                  p-value     0.993      0.903   0.931     0.952    0.807\n",
      "                              mean-diff   0.0↓       0.0     0.0↑      0.0↑     0.0↑\n",
      "GSMB vs ATE-FS                p-value     0.001      0.113   0.013     0.012    0.02\n",
      "                              mean-diff   0.07↓      0.02↓   0.04↓     0.04↓    0.02↓\n",
      "GSMB vs Mutual-Info           p-value     0.001      0.01    0.004     0.0      0.001\n",
      "                              mean-diff   0.06↓      0.04↓   0.05↓     0.06↓    0.03↓\n",
      "GSMB vs Forward               p-value     0.002      0.009   0.003     0.001    0.001\n",
      "                              mean-diff   0.06↓      0.04↓   0.05↓     0.06↓    0.03↓\n",
      "GSMB vs Auto-Spearman         p-value     0.0        0.012   0.001     0.0      0.001\n",
      "                              mean-diff   0.09↓      0.04↓   0.06↓     0.08↑    0.04↓\n",
      "IAMB vs ATE-FS                p-value     0.001      0.09    0.013     0.011    0.013\n",
      "                              mean-diff   0.07↓      0.02↓   0.04↓     0.05↓    0.03↓\n",
      "IAMB vs Mutual-Info           p-value     0.0        0.007   0.002     0.0      0.001\n",
      "                              mean-diff   0.06↓      0.04↓   0.05↓     0.06↓    0.04↓\n",
      "IAMB vs Forward               p-value     0.001      0.008   0.001     0.001    0.001\n",
      "                              mean-diff   0.06↓      0.04↓   0.05↓     0.07↓    0.04↓\n",
      "IAMB vs Auto-Spearman         p-value     0.0        0.009   0.001     0.0      0.001\n",
      "                              mean-diff   0.09↓      0.04↓   0.06↓     0.08↑    0.04↓\n",
      "ATE-FS vs Mutual-Info         p-value     0.4        0.353   0.729     0.461    0.409\n",
      "                              mean-diff   0.01↑      0.01↓   0.01↓     0.02↓    0.01↓\n",
      "ATE-FS vs Forward             p-value     0.505      0.271   0.562     0.302    0.376\n",
      "                              mean-diff   0.02↑      0.02↓   0.01↓     0.02↓    0.01↓\n",
      "ATE-FS vs Auto-Spearman       p-value     0.315      0.327   0.377     0.0      0.358\n",
      "                              mean-diff   0.02↓      0.02↓   0.02↓     0.12↑    0.01↓\n",
      "Mutual-Info vs Forward        p-value     0.788      0.849   0.979     0.703    1.0\n",
      "                              mean-diff   0.0↑       0.0↓    0.0↓      0.0↓     0.0↓\n",
      "Mutual-Info vs Auto-Spearman  p-value     0.078      0.945   0.505     0.0      0.958\n",
      "                              mean-diff   0.03↓      0.0↓    0.01↓     0.14↑    0.0↓\n",
      "Forward vs Auto-Spearman      p-value     0.061      0.945   0.467     0.0      0.89\n",
      "                              mean-diff   0.04↓      0.0↓    0.01↓     0.14↑    0.0↓\n",
      "----------------------------  ----------  ---------  ------  --------  -------  -------\n"
     ]
    }
   ],
   "source": [
    "feat_algo_data_prec = { }\n",
    "for algo in feat_algo:\n",
    "    feat_algo_data_prec[algo] = df[df['feat_algo'] == algo]\n",
    "for algo in feat_algo:\n",
    "    feat_algo_data_prec[algo] = convert_df(feat_algo_data_prec[algo], 'prec')\n",
    "   \n",
    "feat_algo_data_rec = { }\n",
    "for algo in feat_algo:\n",
    "    feat_algo_data_rec[algo] = df[df['feat_algo'] == algo]\n",
    "for algo in feat_algo:\n",
    "    feat_algo_data_rec[algo] = convert_df(feat_algo_data_rec[algo], 'recall')\n",
    " \n",
    "feat_algo_data_f1 = { }\n",
    "for algo in feat_algo:\n",
    "    feat_algo_data_f1[algo] = df[df['feat_algo'] == algo]\n",
    "for algo in feat_algo:\n",
    "    feat_algo_data_f1[algo] = convert_df(feat_algo_data_f1[algo], 'f1')\n",
    "    \n",
    "feat_algo_data_roc = { }\n",
    "for algo in feat_algo:\n",
    "    feat_algo_data_roc[algo] = df[df['feat_algo'] == algo]\n",
    "for algo in feat_algo:\n",
    "    feat_algo_data_roc[algo] = convert_df(feat_algo_data_roc[algo], 'roc_auc')\n",
    "    \n",
    "\n",
    "feat_algo_data_bal = { }\n",
    "for algo in feat_algo:\n",
    "    feat_algo_data_bal[algo] = df[df['feat_algo'] == algo]\n",
    "for algo in feat_algo:\n",
    "    feat_algo_data_bal[algo] = convert_df(feat_algo_data_bal[algo], 'bal')\n",
    "    \n",
    "print(\"XgBoost\")\n",
    "print(tabulate(get_mean_res(feat_algo_data_prec, feat_algo_data_rec, feat_algo_data_f1, feat_algo_data_roc, feat_algo_data_bal)))"
   ]
  },
  {
   "cell_type": "code",
   "execution_count": null,
   "id": "eb49caa5",
   "metadata": {
    "papermill": {
     "duration": 0.00704,
     "end_time": "2024-05-18T17:24:59.587610",
     "exception": false,
     "start_time": "2024-05-18T17:24:59.580570",
     "status": "completed"
    },
    "tags": []
   },
   "outputs": [],
   "source": []
  }
 ],
 "metadata": {
  "kaggle": {
   "accelerator": "none",
   "dataSources": [
    {
     "datasetId": 4529907,
     "sourceId": 7748633,
     "sourceType": "datasetVersion"
    }
   ],
   "dockerImageVersionId": 30587,
   "isGpuEnabled": false,
   "isInternetEnabled": true,
   "language": "python",
   "sourceType": "notebook"
  },
  "kernelspec": {
   "display_name": "Python 3",
   "language": "python",
   "name": "python3"
  },
  "language_info": {
   "codemirror_mode": {
    "name": "ipython",
    "version": 3
   },
   "file_extension": ".py",
   "mimetype": "text/x-python",
   "name": "python",
   "nbconvert_exporter": "python",
   "pygments_lexer": "ipython3",
   "version": "3.10.12"
  },
  "papermill": {
   "default_parameters": {},
   "duration": 22.701953,
   "end_time": "2024-05-18T17:25:00.216066",
   "environment_variables": {},
   "exception": null,
   "input_path": "__notebook__.ipynb",
   "output_path": "__notebook__.ipynb",
   "parameters": {},
   "start_time": "2024-05-18T17:24:37.514113",
   "version": "2.4.0"
  }
 },
 "nbformat": 4,
 "nbformat_minor": 5
}
