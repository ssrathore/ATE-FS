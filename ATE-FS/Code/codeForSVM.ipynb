{
 "cells": [
  {
   "cell_type": "code",
   "execution_count": 1,
   "id": "257c8a46",
   "metadata": {
    "_cell_guid": "b1076dfc-b9ad-4769-8c92-a6c4dae69d19",
    "_uuid": "8f2839f25d086af736a60e9eeb907d3b93b6e0e5",
    "execution": {
     "iopub.execute_input": "2024-03-02T16:02:31.196313Z",
     "iopub.status.busy": "2024-03-02T16:02:31.195895Z",
     "iopub.status.idle": "2024-03-02T16:02:47.822891Z",
     "shell.execute_reply": "2024-03-02T16:02:47.821358Z"
    },
    "papermill": {
     "duration": 16.640529,
     "end_time": "2024-03-02T16:02:47.826222",
     "exception": false,
     "start_time": "2024-03-02T16:02:31.185693",
     "status": "completed"
    },
    "tags": []
   },
   "outputs": [
    {
     "name": "stdout",
     "output_type": "stream",
     "text": [
      "Requirement already satisfied: tabulate in /opt/conda/lib/python3.10/site-packages (0.9.0)\r\n",
      "Requirement already satisfied: xgboost in /opt/conda/lib/python3.10/site-packages (2.0.3)\r\n",
      "Requirement already satisfied: numpy in /opt/conda/lib/python3.10/site-packages (from xgboost) (1.24.4)\r\n",
      "Requirement already satisfied: scipy in /opt/conda/lib/python3.10/site-packages (from xgboost) (1.11.4)\r\n"
     ]
    }
   ],
   "source": [
    "!pip install tabulate xgboost "
   ]
  },
  {
   "cell_type": "code",
   "execution_count": 2,
   "id": "93f76347",
   "metadata": {
    "execution": {
     "iopub.execute_input": "2024-03-02T16:02:47.842587Z",
     "iopub.status.busy": "2024-03-02T16:02:47.842178Z",
     "iopub.status.idle": "2024-03-02T16:02:51.083598Z",
     "shell.execute_reply": "2024-03-02T16:02:51.081887Z"
    },
    "papermill": {
     "duration": 3.253266,
     "end_time": "2024-03-02T16:02:51.086718",
     "exception": false,
     "start_time": "2024-03-02T16:02:47.833452",
     "status": "completed"
    },
    "tags": []
   },
   "outputs": [],
   "source": [
    "import pandas as pd\n",
    "import numpy as np\n",
    "import math\n",
    "import os\n",
    "from sklearn.ensemble import RandomForestClassifier\n",
    "from sklearn.neighbors import KNeighborsClassifier\n",
    "from sklearn import tree\n",
    "from sklearn.linear_model import LogisticRegression\n",
    "from xgboost import XGBClassifier\n",
    "from tabulate import tabulate\n",
    "from imblearn.over_sampling import ADASYN\n",
    "from sklearn import model_selection\n",
    "from sklearn.model_selection import train_test_split\n",
    "from sklearn.metrics import confusion_matrix, matthews_corrcoef as mcc_score,  roc_auc_score, accuracy_score, precision_score, recall_score, f1_score\n",
    "from sklearn.model_selection import RandomizedSearchCV\n",
    "from sklearn import svm"
   ]
  },
  {
   "cell_type": "markdown",
   "id": "28f50726",
   "metadata": {
    "papermill": {
     "duration": 0.00635,
     "end_time": "2024-03-02T16:02:51.100127",
     "exception": false,
     "start_time": "2024-03-02T16:02:51.093777",
     "status": "completed"
    },
    "tags": []
   },
   "source": [
    "## Data Processing"
   ]
  },
  {
   "cell_type": "code",
   "execution_count": 3,
   "id": "77869731",
   "metadata": {
    "execution": {
     "iopub.execute_input": "2024-03-02T16:02:51.115609Z",
     "iopub.status.busy": "2024-03-02T16:02:51.115102Z",
     "iopub.status.idle": "2024-03-02T16:02:51.125540Z",
     "shell.execute_reply": "2024-03-02T16:02:51.124522Z"
    },
    "papermill": {
     "duration": 0.020942,
     "end_time": "2024-03-02T16:02:51.127738",
     "exception": false,
     "start_time": "2024-03-02T16:02:51.106796",
     "status": "completed"
    },
    "tags": []
   },
   "outputs": [],
   "source": [
    "def process_aeeem_dataset(df):\n",
    "    df.columns = df.columns.str.strip()\n",
    "    df.rename(columns={df.columns[-1]: 'temp'}, inplace=True)\n",
    "    columns_to_drop = ['temp', 'classname', 'nonTrivialBugs', 'majorBugs', 'criticalBugs', 'highPriorityBugs']\n",
    "    columns_to_drop = [col for col in columns_to_drop if col in df.columns]\n",
    "    df = df.drop(columns=columns_to_drop)\n",
    "    df.loc[df['bugs'] > 0, 'bugs'] = 1\n",
    "    return df\n",
    "\n",
    "def process_jira_dataset(df):\n",
    "    columns_to_drop = ['File', 'RealBug', 'HeuBug', 'HeuBugCount']\n",
    "    df = df.drop(columns=columns_to_drop)\n",
    "    df.loc[df['RealBugCount'] > 0, 'RealBugCount'] = 1\n",
    "    return df\n",
    "\n",
    "def process_promise_ck_dataset(df):\n",
    "    columns_to_drop = ['Name', 'version']\n",
    "    columns_to_drop = [col for col in columns_to_drop if col in df.columns]\n",
    "    df = df.drop(columns=columns_to_drop)  \n",
    "    df.loc[df['bug'] > 0, 'bug'] = 1\n",
    "    return df"
   ]
  },
  {
   "cell_type": "code",
   "execution_count": 4,
   "id": "789da959",
   "metadata": {
    "execution": {
     "iopub.execute_input": "2024-03-02T16:02:51.143740Z",
     "iopub.status.busy": "2024-03-02T16:02:51.142926Z",
     "iopub.status.idle": "2024-03-02T16:02:51.151589Z",
     "shell.execute_reply": "2024-03-02T16:02:51.150255Z"
    },
    "papermill": {
     "duration": 0.020116,
     "end_time": "2024-03-02T16:02:51.154676",
     "exception": false,
     "start_time": "2024-03-02T16:02:51.134560",
     "status": "completed"
    },
    "tags": []
   },
   "outputs": [],
   "source": [
    "def normalize_dataset(df, n):\n",
    "    num_features = df.shape[1]\n",
    "    normalized_df = pd.DataFrame(index=df.index, columns=df.columns, dtype=int)\n",
    "    for column in df.columns:\n",
    "        feature_values = df[column]\n",
    "        min_value = feature_values.min()\n",
    "        max_value = feature_values.max()\n",
    "        normalized_feature_values = np.round((feature_values - min_value) / (max_value - min_value) * (n - 1))\n",
    "        normalized_df[column] = normalized_feature_values\n",
    "    return normalized_df"
   ]
  },
  {
   "cell_type": "code",
   "execution_count": 5,
   "id": "cc1767f7",
   "metadata": {
    "execution": {
     "iopub.execute_input": "2024-03-02T16:02:51.171738Z",
     "iopub.status.busy": "2024-03-02T16:02:51.171278Z",
     "iopub.status.idle": "2024-03-02T16:02:51.182108Z",
     "shell.execute_reply": "2024-03-02T16:02:51.180449Z"
    },
    "papermill": {
     "duration": 0.023203,
     "end_time": "2024-03-02T16:02:51.185094",
     "exception": false,
     "start_time": "2024-03-02T16:02:51.161891",
     "status": "completed"
    },
    "tags": []
   },
   "outputs": [],
   "source": [
    "def convert_binary(df, num_bits):\n",
    "    def convert_to_binary_representation(column, num_bits):\n",
    "        return column.apply(lambda x: format(int(x), f'0{num_bits}b'))\n",
    "\n",
    "    binary_df = pd.DataFrame(index=df.index)\n",
    "    \n",
    "    for column in df.columns[:-1]:\n",
    "        binary_representation = convert_to_binary_representation(df[column], num_bits)\n",
    "        num_columns_needed = max(len(binary_representation.iloc[0]), num_bits)\n",
    "        \n",
    "        binary_columns = pd.DataFrame(binary_representation.apply(lambda x: pd.Series(list(x)).astype(int)))\n",
    "        binary_columns = binary_columns.iloc[:, :num_columns_needed]\n",
    "        \n",
    "        binary_columns.columns = [f'{column}_bit_{i}' for i in range(num_columns_needed)]\n",
    "        binary_df = pd.concat([binary_df, binary_columns], axis=1)\n",
    "    \n",
    "    binary_df = pd.concat([binary_df, df[df.columns[-1]]], axis=1)\n",
    "    return binary_df"
   ]
  },
  {
   "cell_type": "markdown",
   "id": "b2a6a8a3",
   "metadata": {
    "papermill": {
     "duration": 0.007276,
     "end_time": "2024-03-02T16:02:51.200880",
     "exception": false,
     "start_time": "2024-03-02T16:02:51.193604",
     "status": "completed"
    },
    "tags": []
   },
   "source": [
    "## Feature selection"
   ]
  },
  {
   "cell_type": "code",
   "execution_count": 6,
   "id": "aba2b7dc",
   "metadata": {
    "execution": {
     "iopub.execute_input": "2024-03-02T16:02:51.217578Z",
     "iopub.status.busy": "2024-03-02T16:02:51.217129Z",
     "iopub.status.idle": "2024-03-02T16:02:51.231980Z",
     "shell.execute_reply": "2024-03-02T16:02:51.230982Z"
    },
    "papermill": {
     "duration": 0.026567,
     "end_time": "2024-03-02T16:02:51.234677",
     "exception": false,
     "start_time": "2024-03-02T16:02:51.208110",
     "status": "completed"
    },
    "tags": []
   },
   "outputs": [],
   "source": [
    "def get_ATE_learner(df, col_name):\n",
    "    X = df.drop(columns=[df.columns[-1]])\n",
    "    y = df[df.columns[-1]]\n",
    "    \n",
    "    model = tree.DecisionTreeClassifier()\n",
    "    model.fit(X, y)\n",
    "    \n",
    "    Xt1 = pd.DataFrame.copy(X)\n",
    "    Xt1[col_name] = 1\n",
    "    Xt0 = pd.DataFrame.copy(X)\n",
    "    Xt0[col_name] = 0\n",
    "    \n",
    "    ate_est = np.mean(model.predict(Xt1) - model.predict(Xt0))\n",
    "    return ate_est\n",
    "\n",
    "def ate_based_feature_learner(df, num_of_bits, num_of_feat):\n",
    "    norm_df = normalize_dataset(df, 1<<num_of_bits)\n",
    "    binary_df = convert_binary(norm_df, num_of_bits)\n",
    "    \n",
    "    norm_df.loc[norm_df[norm_df.columns[-1]] > 0, norm_df.columns[-1]] = 1\n",
    "    binary_df.loc[binary_df[binary_df.columns[-1]] > 0, binary_df.columns[-1]] = 1\n",
    "    \n",
    "    best_features = {}\n",
    "    num_columns = len(binary_df.columns)\n",
    "    for i in range(0, num_columns-1, num_of_bits):\n",
    "        total = 0\n",
    "        for j in range(0, num_of_bits):\n",
    "            total = total + get_ATE_learner(binary_df, binary_df.columns[i+j])\n",
    "        best_features[binary_df.columns[i]] = total\n",
    "    \n",
    "    sorted_features = sorted(best_features.items(), key=lambda x: x[1], reverse=True)\n",
    "    top_k_features = [feat[0] for feat in sorted_features[:num_of_feat]]\n",
    "    top_best_features = [element.replace(\"_bit_0\", \"\") for element in top_k_features]\n",
    "    indices = [df.columns.get_loc(feat) for feat in top_best_features]\n",
    "    return indices"
   ]
  },
  {
   "cell_type": "code",
   "execution_count": 7,
   "id": "12d6d1e7",
   "metadata": {
    "execution": {
     "iopub.execute_input": "2024-03-02T16:02:51.252376Z",
     "iopub.status.busy": "2024-03-02T16:02:51.251948Z",
     "iopub.status.idle": "2024-03-02T16:02:51.257014Z",
     "shell.execute_reply": "2024-03-02T16:02:51.255863Z"
    },
    "papermill": {
     "duration": 0.01697,
     "end_time": "2024-03-02T16:02:51.259605",
     "exception": false,
     "start_time": "2024-03-02T16:02:51.242635",
     "status": "completed"
    },
    "tags": []
   },
   "outputs": [],
   "source": [
    "feature_algo = {\n",
    "    'CFS-Learner': ate_based_feature_learner,\n",
    "}"
   ]
  },
  {
   "cell_type": "markdown",
   "id": "162f7278",
   "metadata": {
    "papermill": {
     "duration": 0.007087,
     "end_time": "2024-03-02T16:02:51.274678",
     "exception": false,
     "start_time": "2024-03-02T16:02:51.267591",
     "status": "completed"
    },
    "tags": []
   },
   "source": [
    "## Models"
   ]
  },
  {
   "cell_type": "code",
   "execution_count": 8,
   "id": "a9ebc23c",
   "metadata": {
    "execution": {
     "iopub.execute_input": "2024-03-02T16:02:51.292344Z",
     "iopub.status.busy": "2024-03-02T16:02:51.291909Z",
     "iopub.status.idle": "2024-03-02T16:02:51.305047Z",
     "shell.execute_reply": "2024-03-02T16:02:51.303574Z"
    },
    "papermill": {
     "duration": 0.025434,
     "end_time": "2024-03-02T16:02:51.308034",
     "exception": false,
     "start_time": "2024-03-02T16:02:51.282600",
     "status": "completed"
    },
    "tags": []
   },
   "outputs": [],
   "source": [
    "models_list = {\n",
    "#     \"KNN\": KNeighborsClassifier(),\n",
    "#     \"Decision Tree\": tree.DecisionTreeClassifier(),\n",
    "#     \"XgBoost\": XGBClassifier(),\n",
    "#     \"Random Forest\": RandomForestClassifier(),\n",
    "#     \"Logistic Regression\": LogisticRegression(),\n",
    "    \"SVM\":  svm.SVC(kernel='rbf')\n",
    "}\n",
    "models_search_params = {\n",
    "    \"KNN\": {  \n",
    "        'n_neighbors' : [3, 5, 7, 9, 11, 13, 15, 17, 19, 21, 23, 25, 27, 29, 31],\n",
    "        'weights' : ['uniform','distance'],\n",
    "        'metric' : ['minkowski','euclidean','manhattan']\n",
    "     },\n",
    "    \"Logistic Regression\": {\n",
    "        'penalty' : ['l1', 'l2', 'elasticnet'],\n",
    "        'C' : [1000, 100, 10, 1, 0.1, 0.01, 0.001, 0.0001],\n",
    "        'solver' : ['lbfgs','newton-cg','liblinear', 'newton-cholesky', 'sag', 'saga'],\n",
    "        'max_iter' : [100, 1500, 3000]\n",
    "     },\n",
    "    \"Decision Tree\": {\n",
    "        'max_features': [1, 2, 3, 5, 7, 10, 'log2','sqrt', None],\n",
    "        'max_depth': [2, 3, 5, 7, 10, 20, 30, 40, 50, 60, 70, None],\n",
    "        'min_samples_split': [2, 3, 5, 7, 9, 10, 0.1, 0.2, 0.3],\n",
    "        'min_samples_leaf': [1, 2, 3, 5, 7, 9, 10, 0.1, 0.2],\n",
    "     },\n",
    "    \"Random Forest\": {\n",
    "        'max_depth': [2, 5, 10, None],\n",
    "        'max_features': ['log2', 'sqrt', None],\n",
    "    },\n",
    "    \"XgBoost\": {\n",
    "        'learning_rate': [0.01, 0.1, 0.2],\n",
    "        'max_depth': [3, 5, 6, 10],\n",
    "        'subsample': [0.5, 0.7, 1],\n",
    "        'n_estimators': [100, 500]\n",
    "    },\n",
    "}\n",
    "\n",
    "no_of_iter_for_cv = {\n",
    "    \"KNN\": 30,\n",
    "    \"Decision Tree\": 30,\n",
    "    \"Logistic Regression\": 15,\n",
    "    \"Random Forest\": 5,\n",
    "    \"XgBoost\": 10,\n",
    "}"
   ]
  },
  {
   "cell_type": "markdown",
   "id": "44bd7c2a",
   "metadata": {
    "papermill": {
     "duration": 0.00755,
     "end_time": "2024-03-02T16:02:51.323090",
     "exception": false,
     "start_time": "2024-03-02T16:02:51.315540",
     "status": "completed"
    },
    "tags": []
   },
   "source": [
    "## Metrics"
   ]
  },
  {
   "cell_type": "code",
   "execution_count": 9,
   "id": "90ecfdcf",
   "metadata": {
    "execution": {
     "iopub.execute_input": "2024-03-02T16:02:51.340388Z",
     "iopub.status.busy": "2024-03-02T16:02:51.339964Z",
     "iopub.status.idle": "2024-03-02T16:02:51.348925Z",
     "shell.execute_reply": "2024-03-02T16:02:51.347530Z"
    },
    "papermill": {
     "duration": 0.02104,
     "end_time": "2024-03-02T16:02:51.351835",
     "exception": false,
     "start_time": "2024-03-02T16:02:51.330795",
     "status": "completed"
    },
    "tags": []
   },
   "outputs": [],
   "source": [
    "def g_measure_score(y_test, y_pred):\n",
    "    TN, FP, FN, TP = confusion_matrix(y_test, y_pred).ravel()\n",
    "    FPR = FP/(FP+TN)\n",
    "    recall = recall_score(y_test, y_pred, average='macro')\n",
    "    g_measure = (2*recall*(1-FPR))/(recall+(1-FPR))\n",
    "    return g_measure\n",
    "\n",
    "def bal_score(y_test, y_pred):\n",
    "    TN, FP, FN, TP = confusion_matrix(y_test, y_pred).ravel()\n",
    "    recall = recall_score(y_test, y_pred, average='macro')\n",
    "    FPR = FP/(FP+TN)\n",
    "    PF = FPR\n",
    "    PD = recall\n",
    "    bal = 1 - (math.sqrt((1-PD)*(1-PD)+(0-PF)*(0-PF))/math.sqrt(2))\n",
    "    return bal"
   ]
  },
  {
   "cell_type": "code",
   "execution_count": 10,
   "id": "17da0a6a",
   "metadata": {
    "execution": {
     "iopub.execute_input": "2024-03-02T16:02:51.371931Z",
     "iopub.status.busy": "2024-03-02T16:02:51.371477Z",
     "iopub.status.idle": "2024-03-02T16:02:51.378031Z",
     "shell.execute_reply": "2024-03-02T16:02:51.376831Z"
    },
    "papermill": {
     "duration": 0.019844,
     "end_time": "2024-03-02T16:02:51.381078",
     "exception": false,
     "start_time": "2024-03-02T16:02:51.361234",
     "status": "completed"
    },
    "tags": []
   },
   "outputs": [],
   "source": [
    "def get_best_model_params(X_train, y_train, model):\n",
    "    classifier = models_list[model]\n",
    "    cv = model_selection.StratifiedKFold(n_splits=5, shuffle=True, random_state=42)\n",
    "    grid_obj = RandomizedSearchCV(classifier, models_search_params[model], n_iter = no_of_iter_for_cv[model], cv = cv, scoring='roc_auc')\n",
    "    grid_obj.fit(X_train, y_train)\n",
    "    best_model_params = grid_obj.best_params_\n",
    "    return best_model_params"
   ]
  },
  {
   "cell_type": "code",
   "execution_count": 11,
   "id": "08bf21af",
   "metadata": {
    "execution": {
     "iopub.execute_input": "2024-03-02T16:02:51.399577Z",
     "iopub.status.busy": "2024-03-02T16:02:51.399116Z",
     "iopub.status.idle": "2024-03-02T16:02:51.419541Z",
     "shell.execute_reply": "2024-03-02T16:02:51.418498Z"
    },
    "papermill": {
     "duration": 0.033163,
     "end_time": "2024-03-02T16:02:51.421825",
     "exception": false,
     "start_time": "2024-03-02T16:02:51.388662",
     "status": "completed"
    },
    "tags": []
   },
   "outputs": [],
   "source": [
    "def build_model(file_name, X, y, model, feat_algo, col_list, num_of_bits, num_of_feat):\n",
    "    accuracy_scores = []\n",
    "    precision_scores = []\n",
    "    recall_scores = []\n",
    "    f1_scores = []\n",
    "    mcc_scores = []\n",
    "    roc_auc_scores = []\n",
    "    g_measure_scores = []\n",
    "    bal_scores = []\n",
    "\n",
    "#     best_model_params = {}\n",
    "    features = []\n",
    "    \n",
    "    kf = model_selection.StratifiedKFold(n_splits=10, shuffle=True, random_state=42)\n",
    "    for train_index, test_index in kf.split(X, y):\n",
    "        X_train, X_test = X[train_index], X[test_index]\n",
    "        y_train, y_test = y[train_index], y[test_index]\n",
    "        \n",
    "       \n",
    "        adasyn = ADASYN()\n",
    "        X_train, y_train = adasyn.fit_resample(X_train, y_train)\n",
    "            \n",
    "        if feat_algo != 'None' and len(features)<1:\n",
    "            train_df = pd.concat([pd.DataFrame(X_train), pd.Series(y_train, name='bug')], axis=1)\n",
    "            train_df.columns = col_list\n",
    "            features = feature_algo[feat_algo](train_df, num_of_bits, num_of_feat)\n",
    "        \n",
    "        if len(features) >= 1 and feat_algo != 'None':\n",
    "            X_train = X_train[:, features]\n",
    "            X_test = X_test[:, features]\n",
    "        elif feat_algo != 'None':\n",
    "            return [file_name, feat_algo, '--', '--', '--', '--', '--', '--', '--']\n",
    "        \n",
    "#         if not best_model_params:\n",
    "#             best_model_params = get_best_model_params(X_train, y_train, model)\n",
    "#             print(file_name, feat_algo, model, best_model_params)\n",
    "            \n",
    "        classifier = models_list[model]\n",
    "#         classifier.set_params(**best_model_params)\n",
    "        \n",
    "        classifier.fit(X_train, y_train)\n",
    "        y_pred = classifier.predict(X_test)\n",
    "        \n",
    "        \n",
    "        accuracy_scores.append(accuracy_score(y_test, y_pred))\n",
    "        precision_scores.append(precision_score(y_test, y_pred, average='macro'))\n",
    "        recall_scores.append(recall_score(y_test, y_pred, average='macro'))\n",
    "        f1_scores.append(f1_score(y_test, y_pred, average='macro'))\n",
    "        mcc_scores.append(mcc_score(y_test, y_pred))\n",
    "        roc_auc_scores.append(roc_auc_score(y_test, y_pred))\n",
    "        g_measure_scores.append(g_measure_score(y_test, y_pred))\n",
    "        bal_scores.append(bal_score(y_test, y_pred))\n",
    "    \n",
    "    return [file_name, feat_algo, num_of_bits, num_of_feat, round(np.mean(accuracy_scores),2), round(np.mean(precision_scores), 2), round(np.mean(recall_scores), 2), round(np.mean(f1_scores), 2), round(np.mean(mcc_scores), 2), round(np.mean(roc_auc_scores),2), round(np.mean(g_measure_scores), 2), round(np.mean(bal_scores), 2)]"
   ]
  },
  {
   "cell_type": "code",
   "execution_count": 12,
   "id": "2bd6a82d",
   "metadata": {
    "execution": {
     "iopub.execute_input": "2024-03-02T16:02:51.438680Z",
     "iopub.status.busy": "2024-03-02T16:02:51.438231Z",
     "iopub.status.idle": "2024-03-02T16:02:51.444301Z",
     "shell.execute_reply": "2024-03-02T16:02:51.443080Z"
    },
    "papermill": {
     "duration": 0.017984,
     "end_time": "2024-03-02T16:02:51.447219",
     "exception": false,
     "start_time": "2024-03-02T16:02:51.429235",
     "status": "completed"
    },
    "tags": []
   },
   "outputs": [],
   "source": [
    "def get_list_of_csv(folder_path):\n",
    "    csv_files = [file for file in os.listdir(folder_path) if file.endswith('.csv')]\n",
    "    return csv_files"
   ]
  },
  {
   "cell_type": "markdown",
   "id": "56335225",
   "metadata": {
    "papermill": {
     "duration": 0.007911,
     "end_time": "2024-03-02T16:02:51.462998",
     "exception": false,
     "start_time": "2024-03-02T16:02:51.455087",
     "status": "completed"
    },
    "tags": []
   },
   "source": [
    "## JIRA"
   ]
  },
  {
   "cell_type": "code",
   "execution_count": 13,
   "id": "b08e0763",
   "metadata": {
    "execution": {
     "iopub.execute_input": "2024-03-02T16:02:51.481018Z",
     "iopub.status.busy": "2024-03-02T16:02:51.480510Z",
     "iopub.status.idle": "2024-03-02T16:02:51.491794Z",
     "shell.execute_reply": "2024-03-02T16:02:51.490396Z"
    },
    "papermill": {
     "duration": 0.023685,
     "end_time": "2024-03-02T16:02:51.494561",
     "exception": false,
     "start_time": "2024-03-02T16:02:51.470876",
     "status": "completed"
    },
    "tags": []
   },
   "outputs": [],
   "source": [
    "file_list = []\n",
    "folder_path = '/kaggle/input/defect-prediction/JIRA-defect-dataset/'\n",
    "\n",
    "for file_name in file_list:\n",
    "    \n",
    "    df = pd.read_csv(folder_path+file_name)\n",
    "    df = process_jira_dataset(df)\n",
    "    df = df.loc[:,df.apply(pd.Series.nunique) != 1]\n",
    "    \n",
    "    \n",
    "    X = df.drop(columns=[df.columns[-1]]).values\n",
    "    y = df[df.columns[-1]].values\n",
    "\n",
    "    for model in models_list.keys():\n",
    "        print('----------------', model ,'---------------------------')\n",
    "        table = []\n",
    "        table.append([\"dataset\", \"feat_algo\", \"no_of_bits\", \"no_of_feat\", \"acc\", \"prec\", \"recall\", \"f1\", \"mcc\", \"roc_auc\", \"g-m\", \"bal\"])\n",
    "\n",
    "        for num_of_bits in range(6, 15, 2): \n",
    "            num_of_feat = 6\n",
    "            for feat_algo in feature_algo.keys():\n",
    "                table.append(build_model(file_name, X, y, model, feat_algo, df.columns, num_of_bits, num_of_feat))\n",
    "            \n",
    "        print(tabulate(table))"
   ]
  },
  {
   "cell_type": "markdown",
   "id": "acea0287",
   "metadata": {
    "papermill": {
     "duration": 0.007385,
     "end_time": "2024-03-02T16:02:51.509718",
     "exception": false,
     "start_time": "2024-03-02T16:02:51.502333",
     "status": "completed"
    },
    "tags": []
   },
   "source": [
    "## TERA-PROMISE-ck"
   ]
  },
  {
   "cell_type": "code",
   "execution_count": 14,
   "id": "12febe25",
   "metadata": {
    "execution": {
     "iopub.execute_input": "2024-03-02T16:02:51.527967Z",
     "iopub.status.busy": "2024-03-02T16:02:51.527470Z",
     "iopub.status.idle": "2024-03-02T16:21:14.984659Z",
     "shell.execute_reply": "2024-03-02T16:21:14.983017Z"
    },
    "papermill": {
     "duration": 1103.477356,
     "end_time": "2024-03-02T16:21:14.994950",
     "exception": false,
     "start_time": "2024-03-02T16:02:51.517594",
     "status": "completed"
    },
    "tags": []
   },
   "outputs": [
    {
     "name": "stdout",
     "output_type": "stream",
     "text": [
      "---------------- SVM ---------------------------\n",
      "----------  -----------  ----------  ----------  ----  ----  ------  ----  ----  -------  ----  ----\n",
      "dataset     feat_algo    no_of_bits  no_of_feat  acc   prec  recall  f1    mcc   roc_auc  g-m   bal\n",
      "prop-5.csv  CFS-Learner  6           4           0.61  0.57  0.62    0.53  0.18  0.62     0.61  0.61\n",
      "prop-5.csv  CFS-Learner  8           4           0.52  0.56  0.61    0.48  0.16  0.61     0.54  0.54\n",
      "prop-5.csv  CFS-Learner  10          4           0.62  0.57  0.63    0.54  0.19  0.63     0.62  0.62\n",
      "prop-5.csv  CFS-Learner  12          4           0.59  0.56  0.62    0.52  0.17  0.62     0.6   0.6\n",
      "prop-5.csv  CFS-Learner  14          4           0.58  0.56  0.62    0.51  0.18  0.62     0.59  0.59\n",
      "----------  -----------  ----------  ----------  ----  ----  ------  ----  ----  -------  ----  ----\n"
     ]
    }
   ],
   "source": [
    "file_list = ['prop-5.csv']\n",
    "folder_path = '/kaggle/input/defect-prediction/TeraPromise-defect-dataset/ck/'\n",
    "\n",
    "for file_name in file_list:\n",
    "    \n",
    "    df = pd.read_csv(folder_path+file_name)\n",
    "    df = process_promise_ck_dataset(df)\n",
    "    df = df.loc[:,df.apply(pd.Series.nunique) != 1]\n",
    "    \n",
    "    \n",
    "    X = df.drop(columns=[df.columns[-1]]).values\n",
    "    y = df[df.columns[-1]].values\n",
    "\n",
    "    for model in models_list.keys():\n",
    "        print('----------------', model ,'---------------------------')\n",
    "        table = []\n",
    "        table.append([\"dataset\", \"feat_algo\", \"no_of_bits\", \"no_of_feat\", \"acc\", \"prec\", \"recall\", \"f1\", \"mcc\", \"roc_auc\", \"g-m\", \"bal\"])\n",
    "\n",
    "        for num_of_bits in range(6, 15, 2): \n",
    "            num_of_feat = 4\n",
    "            for feat_algo in feature_algo.keys():\n",
    "                table.append(build_model(file_name, X, y, model, feat_algo, df.columns, num_of_bits, num_of_feat))\n",
    "            \n",
    "        print(tabulate(table))"
   ]
  },
  {
   "cell_type": "markdown",
   "id": "2a5de671",
   "metadata": {
    "papermill": {
     "duration": 0.00745,
     "end_time": "2024-03-02T16:21:15.010184",
     "exception": false,
     "start_time": "2024-03-02T16:21:15.002734",
     "status": "completed"
    },
    "tags": []
   },
   "source": [
    "## AEEEM "
   ]
  },
  {
   "cell_type": "code",
   "execution_count": 15,
   "id": "88375fb2",
   "metadata": {
    "execution": {
     "iopub.execute_input": "2024-03-02T16:21:15.027922Z",
     "iopub.status.busy": "2024-03-02T16:21:15.027489Z",
     "iopub.status.idle": "2024-03-02T16:21:15.038526Z",
     "shell.execute_reply": "2024-03-02T16:21:15.037151Z"
    },
    "papermill": {
     "duration": 0.023033,
     "end_time": "2024-03-02T16:21:15.040960",
     "exception": false,
     "start_time": "2024-03-02T16:21:15.017927",
     "status": "completed"
    },
    "tags": []
   },
   "outputs": [],
   "source": [
    "file_list = []\n",
    "folder_path = '/kaggle/input/defect-prediction/AEEEM-defect-dataset/'\n",
    "\n",
    "for file_name in file_list:\n",
    "    \n",
    "    df = pd.read_csv(folder_path+file_name, delimiter=';')\n",
    "    df = process_aeeem_dataset(df)\n",
    "    df = df.loc[:,df.apply(pd.Series.nunique) != 1]\n",
    "    \n",
    "    \n",
    "    X = df.drop(columns=[df.columns[-1]]).values\n",
    "    y = df[df.columns[-1]].values\n",
    "\n",
    "    for model in models_list.keys():\n",
    "        print('----------------', model ,'---------------------------')\n",
    "        table = []\n",
    "        table.append([\"dataset\", \"feat_algo\", \"no_of_bits\", \"no_of_feat\", \"acc\", \"prec\", \"recall\", \"f1\", \"mcc\", \"roc_auc\", \"g-m\", \"bal\"])\n",
    "\n",
    "        for num_of_bits in range(6, 15, 2): \n",
    "            num_of_feat = 4\n",
    "            for feat_algo in feature_algo.keys():\n",
    "                table.append(build_model(file_name, X, y, model, feat_algo, df.columns, num_of_bits, num_of_feat))\n",
    "            \n",
    "        print(tabulate(table))"
   ]
  }
 ],
 "metadata": {
  "kaggle": {
   "accelerator": "none",
   "dataSources": [
    {
     "datasetId": 3568505,
     "sourceId": 6214172,
     "sourceType": "datasetVersion"
    }
   ],
   "dockerImageVersionId": 30646,
   "isGpuEnabled": false,
   "isInternetEnabled": true,
   "language": "python",
   "sourceType": "notebook"
  },
  "kernelspec": {
   "display_name": "Python 3",
   "language": "python",
   "name": "python3"
  },
  "language_info": {
   "codemirror_mode": {
    "name": "ipython",
    "version": 3
   },
   "file_extension": ".py",
   "mimetype": "text/x-python",
   "name": "python",
   "nbconvert_exporter": "python",
   "pygments_lexer": "ipython3",
   "version": "3.10.13"
  },
  "papermill": {
   "default_parameters": {},
   "duration": 1127.775669,
   "end_time": "2024-03-02T16:21:15.777053",
   "environment_variables": {},
   "exception": null,
   "input_path": "__notebook__.ipynb",
   "output_path": "__notebook__.ipynb",
   "parameters": {},
   "start_time": "2024-03-02T16:02:28.001384",
   "version": "2.5.0"
  }
 },
 "nbformat": 4,
 "nbformat_minor": 5
}
