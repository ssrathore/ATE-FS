{
 "cells": [
  {
   "cell_type": "code",
   "execution_count": 1,
   "id": "a9b654d3",
   "metadata": {
    "_cell_guid": "b1076dfc-b9ad-4769-8c92-a6c4dae69d19",
    "_uuid": "8f2839f25d086af736a60e9eeb907d3b93b6e0e5",
    "execution": {
     "iopub.execute_input": "2023-11-04T08:53:46.146998Z",
     "iopub.status.busy": "2023-11-04T08:53:46.146568Z",
     "iopub.status.idle": "2023-11-04T08:54:03.401091Z",
     "shell.execute_reply": "2023-11-04T08:54:03.399573Z"
    },
    "papermill": {
     "duration": 17.268368,
     "end_time": "2023-11-04T08:54:03.404344",
     "exception": false,
     "start_time": "2023-11-04T08:53:46.135976",
     "status": "completed"
    },
    "tags": []
   },
   "outputs": [
    {
     "name": "stdout",
     "output_type": "stream",
     "text": [
      "Collecting pyCausalFS\r\n",
      "  Downloading pyCausalFS-0.23-py3-none-any.whl (300 kB)\r\n",
      "\u001b[2K     \u001b[90m━━━━━━━━━━━━━━━━━━━━━━━━━━━━━━━━━━━━━━━\u001b[0m \u001b[32m300.9/300.9 kB\u001b[0m \u001b[31m5.9 MB/s\u001b[0m eta \u001b[36m0:00:00\u001b[0m\r\n",
      "\u001b[?25hRequirement already satisfied: tabulate in /opt/conda/lib/python3.10/site-packages (0.9.0)\r\n",
      "Requirement already satisfied: xgboost in /opt/conda/lib/python3.10/site-packages (1.7.6)\r\n",
      "Requirement already satisfied: scipy in /opt/conda/lib/python3.10/site-packages (1.11.2)\r\n",
      "Collecting feature_engine\r\n",
      "  Downloading feature_engine-1.6.2-py2.py3-none-any.whl (328 kB)\r\n",
      "\u001b[2K     \u001b[90m━━━━━━━━━━━━━━━━━━━━━━━━━━━━━━━━━━━━━━\u001b[0m \u001b[32m328.9/328.9 kB\u001b[0m \u001b[31m21.6 MB/s\u001b[0m eta \u001b[36m0:00:00\u001b[0m\r\n",
      "\u001b[?25hRequirement already satisfied: numpy in /opt/conda/lib/python3.10/site-packages (from pyCausalFS) (1.23.5)\r\n",
      "Requirement already satisfied: pandas in /opt/conda/lib/python3.10/site-packages (from pyCausalFS) (2.0.3)\r\n",
      "Requirement already satisfied: scikit-learn in /opt/conda/lib/python3.10/site-packages (from pyCausalFS) (1.2.2)\r\n",
      "Requirement already satisfied: networkx in /opt/conda/lib/python3.10/site-packages (from pyCausalFS) (3.1)\r\n",
      "Requirement already satisfied: matplotlib in /opt/conda/lib/python3.10/site-packages (from pyCausalFS) (3.7.2)\r\n",
      "Requirement already satisfied: statsmodels>=0.11.1 in /opt/conda/lib/python3.10/site-packages (from feature_engine) (0.14.0)\r\n",
      "Requirement already satisfied: python-dateutil>=2.8.2 in /opt/conda/lib/python3.10/site-packages (from pandas->pyCausalFS) (2.8.2)\r\n",
      "Requirement already satisfied: pytz>=2020.1 in /opt/conda/lib/python3.10/site-packages (from pandas->pyCausalFS) (2023.3)\r\n",
      "Requirement already satisfied: tzdata>=2022.1 in /opt/conda/lib/python3.10/site-packages (from pandas->pyCausalFS) (2023.3)\r\n",
      "Requirement already satisfied: joblib>=1.1.1 in /opt/conda/lib/python3.10/site-packages (from scikit-learn->pyCausalFS) (1.3.2)\r\n",
      "Requirement already satisfied: threadpoolctl>=2.0.0 in /opt/conda/lib/python3.10/site-packages (from scikit-learn->pyCausalFS) (3.1.0)\r\n",
      "Requirement already satisfied: patsy>=0.5.2 in /opt/conda/lib/python3.10/site-packages (from statsmodels>=0.11.1->feature_engine) (0.5.3)\r\n",
      "Requirement already satisfied: packaging>=21.3 in /opt/conda/lib/python3.10/site-packages (from statsmodels>=0.11.1->feature_engine) (21.3)\r\n",
      "Requirement already satisfied: contourpy>=1.0.1 in /opt/conda/lib/python3.10/site-packages (from matplotlib->pyCausalFS) (1.1.0)\r\n",
      "Requirement already satisfied: cycler>=0.10 in /opt/conda/lib/python3.10/site-packages (from matplotlib->pyCausalFS) (0.11.0)\r\n",
      "Requirement already satisfied: fonttools>=4.22.0 in /opt/conda/lib/python3.10/site-packages (from matplotlib->pyCausalFS) (4.40.0)\r\n",
      "Requirement already satisfied: kiwisolver>=1.0.1 in /opt/conda/lib/python3.10/site-packages (from matplotlib->pyCausalFS) (1.4.4)\r\n",
      "Requirement already satisfied: pillow>=6.2.0 in /opt/conda/lib/python3.10/site-packages (from matplotlib->pyCausalFS) (9.5.0)\r\n",
      "Requirement already satisfied: pyparsing<3.1,>=2.3.1 in /opt/conda/lib/python3.10/site-packages (from matplotlib->pyCausalFS) (3.0.9)\r\n",
      "Requirement already satisfied: six in /opt/conda/lib/python3.10/site-packages (from patsy>=0.5.2->statsmodels>=0.11.1->feature_engine) (1.16.0)\r\n",
      "Installing collected packages: pyCausalFS, feature_engine\r\n",
      "Successfully installed feature_engine-1.6.2 pyCausalFS-0.23\r\n"
     ]
    }
   ],
   "source": [
    "!pip install pyCausalFS tabulate xgboost scipy feature_engine"
   ]
  },
  {
   "cell_type": "code",
   "execution_count": 2,
   "id": "413eb5ce",
   "metadata": {
    "execution": {
     "iopub.execute_input": "2023-11-04T08:54:03.427572Z",
     "iopub.status.busy": "2023-11-04T08:54:03.427011Z",
     "iopub.status.idle": "2023-11-04T08:54:06.635529Z",
     "shell.execute_reply": "2023-11-04T08:54:06.634408Z"
    },
    "papermill": {
     "duration": 3.224002,
     "end_time": "2023-11-04T08:54:06.638884",
     "exception": false,
     "start_time": "2023-11-04T08:54:03.414882",
     "status": "completed"
    },
    "tags": []
   },
   "outputs": [],
   "source": [
    "import pandas as pd\n",
    "import os\n",
    "import math\n",
    "from pyCausalFS.CBD.MBs.IAMB import IAMB\n",
    "from pyCausalFS.CBD.MBs.BAMB import BAMB\n",
    "from pyCausalFS.CBD.MBs.STMB import STMB\n",
    "from pyCausalFS.CBD.MBs.MBOR import MBOR\n",
    "from pyCausalFS.CBD.MBs.LCMB import LRH\n",
    "from pyCausalFS.CBD.MBs.MMMB.MMMB import MMMB\n",
    "from pyCausalFS.CBD.MBs.HITON.HITON_MB import HITON_MB\n",
    "from pyCausalFS.CBD.MBs.HITON.HITON_PC import HITON_PC\n",
    "from pyCausalFS.CBD.MBs.MMMB.MMPC import MMPC\n",
    "from pyCausalFS.CBD.MBs.GSMB import GSMB\n",
    "from pyCausalFS.CBD.MBs.fast_IAMB import fast_IAMB\n",
    "from pyCausalFS.CBD.MBs.inter_IAMB import inter_IAMB\n",
    "from pyCausalFS.CBD.MBs.IAMBnPC import IAMBnPC\n",
    "from pyCausalFS.CBD.MBs.interIAMBnPC import interIAMBnPC\n",
    "from pyCausalFS.CBD.MBs.FBEDk import FBED\n",
    "from pyCausalFS.CBD.MBs.PCMB.PCMB import PCMB\n",
    "from pyCausalFS.CBD.MBs.semi_HITON.semi_HITON_MB import semi_HITON_MB\n",
    "from pyCausalFS.CBD.MBs.IPCMB.IPCMB import IPC_MB\n",
    "from pyCausalFS.LSL.MBs.PCDbyPCD import PCDbyPCD\n",
    "from pyCausalFS.LSL.MBs.MBbyMB import MBbyMB\n",
    "from pyCausalFS.LSL.MBs.CMB.CMB import CMB\n",
    "from pyCausalFS.CBD.MBs.KIAMB import KIAMB\n",
    "from pyCausalFS.CBD.MBs.TIE_star.TIEs import TIE_p\n",
    "from sklearn.preprocessing import LabelEncoder\n",
    "from imblearn.over_sampling import ADASYN\n",
    "from sklearn import model_selection\n",
    "from sklearn.naive_bayes import GaussianNB\n",
    "from sklearn.ensemble import RandomForestClassifier\n",
    "from sklearn.neighbors import KNeighborsClassifier\n",
    "from sklearn import tree\n",
    "from sklearn.linear_model import LogisticRegression\n",
    "from xgboost import XGBClassifier\n",
    "from sklearn.model_selection import train_test_split\n",
    "from sklearn.metrics import confusion_matrix, matthews_corrcoef as mcc_score,  roc_auc_score, accuracy_score, precision_score, recall_score, f1_score\n",
    "import numpy as np\n",
    "from tabulate import tabulate\n",
    "from scipy.io import arff\n",
    "from sklearn import svm\n",
    "from sklearn.model_selection import GridSearchCV, RandomizedSearchCV\n",
    "from sklearn.feature_selection import SelectKBest, chi2, mutual_info_classif, f_classif, RFECV, SequentialFeatureSelector\n",
    "from feature_engine.selection import DropCorrelatedFeatures, SmartCorrelatedSelection"
   ]
  },
  {
   "cell_type": "code",
   "execution_count": 3,
   "id": "04b5398d",
   "metadata": {
    "execution": {
     "iopub.execute_input": "2023-11-04T08:54:06.660715Z",
     "iopub.status.busy": "2023-11-04T08:54:06.660134Z",
     "iopub.status.idle": "2023-11-04T08:54:06.664880Z",
     "shell.execute_reply": "2023-11-04T08:54:06.663711Z"
    },
    "papermill": {
     "duration": 0.018839,
     "end_time": "2023-11-04T08:54:06.667609",
     "exception": false,
     "start_time": "2023-11-04T08:54:06.648770",
     "status": "completed"
    },
    "tags": []
   },
   "outputs": [],
   "source": [
    "significance_val = 0.05"
   ]
  },
  {
   "cell_type": "markdown",
   "id": "1e45c65a",
   "metadata": {
    "papermill": {
     "duration": 0.009257,
     "end_time": "2023-11-04T08:54:06.686531",
     "exception": false,
     "start_time": "2023-11-04T08:54:06.677274",
     "status": "completed"
    },
    "tags": []
   },
   "source": [
    "# Feature Selection Algorithms"
   ]
  },
  {
   "cell_type": "code",
   "execution_count": 4,
   "id": "9d5caa21",
   "metadata": {
    "execution": {
     "iopub.execute_input": "2023-11-04T08:54:06.708354Z",
     "iopub.status.busy": "2023-11-04T08:54:06.707599Z",
     "iopub.status.idle": "2023-11-04T08:54:06.738209Z",
     "shell.execute_reply": "2023-11-04T08:54:06.736903Z"
    },
    "papermill": {
     "duration": 0.045023,
     "end_time": "2023-11-04T08:54:06.741217",
     "exception": false,
     "start_time": "2023-11-04T08:54:06.696194",
     "status": "completed"
    },
    "tags": []
   },
   "outputs": [],
   "source": [
    "features_list = {\n",
    "    \"camel-2.11.0.csv\":  [0, 4, 5, 6, 10, 11, 12, 14, 15, 19, 20, 22, 34, 38, 39, 40, 44, 46, 47, 50, 53, 60, 62, 64], \n",
    "    \"derby-10.5.1.1.csv\" :  [0, 4, 5, 6, 10, 11, 14, 15, 19, 20, 22, 29, 34, 37, 38, 39, 40, 41, 43, 44, 47, 52, 53, 58, 60, 62, 64],\n",
    "    \"activemq-5.3.0.csv\" :  [0, 4, 5, 6, 10, 11, 12, 15, 19, 20, 22, 29, 34, 37, 38, 39, 40, 41, 43, 44, 46, 47, 53, 58, 59, 64], \n",
    "    \"derby-10.3.1.4.csv\" :  [0, 4, 5, 6, 10, 11, 14, 15, 19, 20, 22, 29, 37, 38, 39, 40, 41, 43, 44, 47, 52, 53, 57, 59, 60, 61, 64], \n",
    "    \"activemq-5.2.0.csv\" :  [0, 4, 5, 6, 10, 11, 12, 14, 15, 19, 20, 29, 34, 37, 38, 39, 40, 41, 43, 44, 47, 53, 58, 59, 64], \n",
    "    \"hive-0.12.0.csv\" :  [0, 4, 5, 11, 14, 19, 20, 29, 34, 37, 38, 39, 40, 41, 43, 44, 46, 47, 50, 52, 53, 60, 61, 62, 63, 64], \n",
    "    \"camel-2.10.0.csv\" :  [0, 4, 5, 6, 10, 11, 12, 14, 19, 20, 22, 34, 38, 39, 40, 41, 44, 46, 47, 50, 53, 60, 62, 64], \n",
    "    \"derby-10.2.1.6.csv\" :  [0, 4, 5, 6, 10, 11, 14, 15, 19, 20, 22, 29, 34, 37, 38, 39, 40, 41, 43, 44, 47, 52, 53, 57, 59, 61, 64], \n",
    "    \"hbase-0.95.0.csv\" :  [4, 5, 11, 14, 19, 29, 34, 37, 38, 39, 40, 41, 43, 44, 46, 47, 50, 52, 53, 57, 60, 61, 62, 63, 64], \n",
    "    \"hive-0.10.0.csv\" :  [0, 5, 11, 14, 19, 20, 29, 34, 37, 38, 39, 40, 41, 43, 44, 47, 50, 52, 53, 60, 61, 62, 64], \n",
    "    \"camel-2.9.0.csv\" :  [0, 4, 5, 6, 10, 11, 12, 14, 19, 20, 22, 34, 38, 39, 40, 41, 44, 46, 47, 50, 53, 60, 61, 62, 64], \n",
    "    \"camel-1.4.0.csv\" :  [0, 4, 5, 6, 10, 11, 12, 14, 15, 19, 20, 22, 34, 38, 39, 40, 41, 44, 47, 53, 59, 60, 61, 63, 64],\n",
    "    \"activemq-5.1.0.csv\" :  [0, 4, 5, 6, 10, 11, 12, 15, 19, 20, 22, 29, 34, 37, 38, 39, 40, 41, 43, 44, 46, 47, 53, 59, 60, 64], \n",
    "    \"jruby-1.7.0.preview1.csv\" :  [0, 4, 5, 6, 10, 11, 14, 15, 19, 20, 29, 34, 37, 38, 39, 40, 41, 43, 44, 46, 47, 50, 52, 53, 58, 60, 61, 62, 64], \n",
    "    \"wicket-1.3.0-incubating-beta-1.csv\" :  [0, 4, 5, 10, 11, 12, 14, 15, 19, 20, 29, 34, 37, 38, 39, 40, 41, 43, 44, 47, 53, 58, 60, 61, 62, 64], \n",
    "    \"hbase-0.95.2.csv\" :  [4, 5, 6, 11, 14, 19, 29, 34, 37, 38, 39, 40, 41, 43, 44, 46, 47, 50, 52, 53, 57, 60, 61, 62, 63, 64], \n",
    "    \"activemq-5.0.0.csv\" : [0, 4, 5, 6, 10, 11, 12, 15, 19, 20, 22, 29, 34, 37, 38, 39, 40, 41, 43, 44, 47, 53, 55, 59, 60, 61, 64], \n",
    "    \"activemq-5.8.0.csv\" : [0, 4, 5, 10, 11, 12, 15, 19, 20, 22, 29, 34, 37, 38, 39, 40, 41, 43, 44, 46, 47, 50, 58, 59, 60, 64], \n",
    "    \"wicket-1.3.0-beta2.csv\" :  [0, 4, 5, 10, 11, 12, 14, 15, 19, 20, 29, 34, 37, 38, 39, 40, 41, 43, 44, 47, 53, 58, 60, 61, 62, 64], \n",
    "    \"lucene-3.1.csv\" :  [0, 4, 5, 6, 10, 14, 15, 19, 20, 22, 29, 34, 37, 38, 39, 40, 41, 43, 44, 46, 47, 52, 53, 60, 61, 62, 64], \n",
    "    \"wicket-1.5.3.csv\" :  [0, 4, 5, 10, 11, 12, 15, 19, 20, 22, 29, 34, 37, 38, 39, 40, 41, 43, 44, 47, 50, 53, 59, 60, 61, 64],\n",
    "    \"prop-3.csv\" :  [2, 5, 6, 7, 8, 9, 11, 12, 13, 14, 17, 19],\n",
    "    \"prop-4.csv\" :  [2, 5, 6, 8, 9, 11, 12, 13, 14, 15, 17, 19],\n",
    "    \"prop-2.csv\" :  [1, 2, 5, 6, 7, 8, 9, 11, 12, 13, 14, 17, 19], \n",
    "    \"prop-1.csv\" :  [2, 3, 5, 6, 8, 9, 11, 12, 13, 14, 16, 17, 19], \n",
    "    \"prop-5.csv\" :  [1, 2, 5, 6, 8, 9, 11, 12, 13, 14, 17, 18],\n",
    "    \"mylyn.csv\": [1, 2, 3, 9, 11, 12, 13]   \n",
    "}"
   ]
  },
  {
   "cell_type": "markdown",
   "id": "4aebc44f",
   "metadata": {
    "papermill": {
     "duration": 0.009405,
     "end_time": "2023-11-04T08:54:06.760197",
     "exception": false,
     "start_time": "2023-11-04T08:54:06.750792",
     "status": "completed"
    },
    "tags": []
   },
   "source": [
    "# Data Processing"
   ]
  },
  {
   "cell_type": "code",
   "execution_count": 5,
   "id": "5454e5ca",
   "metadata": {
    "execution": {
     "iopub.execute_input": "2023-11-04T08:54:06.781830Z",
     "iopub.status.busy": "2023-11-04T08:54:06.781247Z",
     "iopub.status.idle": "2023-11-04T08:54:06.787041Z",
     "shell.execute_reply": "2023-11-04T08:54:06.785700Z"
    },
    "papermill": {
     "duration": 0.019733,
     "end_time": "2023-11-04T08:54:06.789558",
     "exception": false,
     "start_time": "2023-11-04T08:54:06.769825",
     "status": "completed"
    },
    "tags": []
   },
   "outputs": [],
   "source": [
    "def get_list_of_csv(folder_path):\n",
    "    csv_files = [file for file in os.listdir(folder_path) if file.endswith('.csv')]\n",
    "    return csv_files"
   ]
  },
  {
   "cell_type": "markdown",
   "id": "57bac1b3",
   "metadata": {
    "papermill": {
     "duration": 0.009137,
     "end_time": "2023-11-04T08:54:06.808306",
     "exception": false,
     "start_time": "2023-11-04T08:54:06.799169",
     "status": "completed"
    },
    "tags": []
   },
   "source": [
    "### AEEEM"
   ]
  },
  {
   "cell_type": "code",
   "execution_count": 6,
   "id": "1021cca6",
   "metadata": {
    "execution": {
     "iopub.execute_input": "2023-11-04T08:54:06.829167Z",
     "iopub.status.busy": "2023-11-04T08:54:06.828761Z",
     "iopub.status.idle": "2023-11-04T08:54:06.836614Z",
     "shell.execute_reply": "2023-11-04T08:54:06.835390Z"
    },
    "papermill": {
     "duration": 0.021365,
     "end_time": "2023-11-04T08:54:06.839149",
     "exception": false,
     "start_time": "2023-11-04T08:54:06.817784",
     "status": "completed"
    },
    "tags": []
   },
   "outputs": [],
   "source": [
    "def process_aeeem_dataset(df):\n",
    "    df.columns = df.columns.str.strip()\n",
    "    df.rename(columns={df.columns[-1]: 'temp'}, inplace=True)\n",
    "    columns_to_drop = ['temp', 'classname', 'nonTrivialBugs', 'majorBugs', 'criticalBugs', 'highPriorityBugs']\n",
    "    columns_to_drop = [col for col in columns_to_drop if col in df.columns]\n",
    "    df = df.drop(columns=columns_to_drop)\n",
    "    df.loc[df['bugs'] > 0, 'bugs'] = 1\n",
    "    return df"
   ]
  },
  {
   "cell_type": "markdown",
   "id": "192eb343",
   "metadata": {
    "papermill": {
     "duration": 0.009147,
     "end_time": "2023-11-04T08:54:06.857878",
     "exception": false,
     "start_time": "2023-11-04T08:54:06.848731",
     "status": "completed"
    },
    "tags": []
   },
   "source": [
    "### JIRA"
   ]
  },
  {
   "cell_type": "code",
   "execution_count": 7,
   "id": "e7233003",
   "metadata": {
    "execution": {
     "iopub.execute_input": "2023-11-04T08:54:06.879108Z",
     "iopub.status.busy": "2023-11-04T08:54:06.878640Z",
     "iopub.status.idle": "2023-11-04T08:54:06.884964Z",
     "shell.execute_reply": "2023-11-04T08:54:06.883732Z"
    },
    "papermill": {
     "duration": 0.019747,
     "end_time": "2023-11-04T08:54:06.887454",
     "exception": false,
     "start_time": "2023-11-04T08:54:06.867707",
     "status": "completed"
    },
    "tags": []
   },
   "outputs": [],
   "source": [
    "def process_jira_dataset(df):\n",
    "    columns_to_drop = ['File', 'RealBug', 'HeuBug', 'HeuBugCount']\n",
    "    df = df.drop(columns=columns_to_drop)\n",
    "    df.loc[df['RealBugCount'] > 0, 'RealBugCount'] = 1\n",
    "    return df"
   ]
  },
  {
   "cell_type": "markdown",
   "id": "1b710ca2",
   "metadata": {
    "papermill": {
     "duration": 0.009196,
     "end_time": "2023-11-04T08:54:06.906615",
     "exception": false,
     "start_time": "2023-11-04T08:54:06.897419",
     "status": "completed"
    },
    "tags": []
   },
   "source": [
    "### TERA-PROMISE-ck"
   ]
  },
  {
   "cell_type": "code",
   "execution_count": 8,
   "id": "8fefc3fb",
   "metadata": {
    "execution": {
     "iopub.execute_input": "2023-11-04T08:54:06.927552Z",
     "iopub.status.busy": "2023-11-04T08:54:06.927070Z",
     "iopub.status.idle": "2023-11-04T08:54:06.933705Z",
     "shell.execute_reply": "2023-11-04T08:54:06.932481Z"
    },
    "papermill": {
     "duration": 0.020361,
     "end_time": "2023-11-04T08:54:06.936488",
     "exception": false,
     "start_time": "2023-11-04T08:54:06.916127",
     "status": "completed"
    },
    "tags": []
   },
   "outputs": [],
   "source": [
    "def process_promise_ck_dataset(df):\n",
    "    columns_to_drop = ['Name', 'version']\n",
    "    columns_to_drop = [col for col in columns_to_drop if col in df.columns]\n",
    "    df = df.drop(columns=columns_to_drop)  \n",
    "    df.loc[df['bug'] > 0, 'bug'] = 1\n",
    "    return df"
   ]
  },
  {
   "cell_type": "markdown",
   "id": "061e875d",
   "metadata": {
    "papermill": {
     "duration": 0.009451,
     "end_time": "2023-11-04T08:54:06.955735",
     "exception": false,
     "start_time": "2023-11-04T08:54:06.946284",
     "status": "completed"
    },
    "tags": []
   },
   "source": [
    "# Models"
   ]
  },
  {
   "cell_type": "code",
   "execution_count": 9,
   "id": "9e36e4fe",
   "metadata": {
    "execution": {
     "iopub.execute_input": "2023-11-04T08:54:06.977341Z",
     "iopub.status.busy": "2023-11-04T08:54:06.976917Z",
     "iopub.status.idle": "2023-11-04T08:54:06.989680Z",
     "shell.execute_reply": "2023-11-04T08:54:06.988432Z"
    },
    "papermill": {
     "duration": 0.026922,
     "end_time": "2023-11-04T08:54:06.992410",
     "exception": false,
     "start_time": "2023-11-04T08:54:06.965488",
     "status": "completed"
    },
    "tags": []
   },
   "outputs": [],
   "source": [
    "models_list = {\n",
    "#     \"KNN\": KNeighborsClassifier(),\n",
    "#     \"Logistic Regression\": LogisticRegression(),\n",
    "#     \"Decision Tree\": tree.DecisionTreeClassifier(),\n",
    "#     \"XgBoost\": XGBClassifier(),\n",
    "#     \"Random Forest\": RandomForestClassifier(),\n",
    "    \"SVM\":  svm.SVC(kernel='rbf')\n",
    "}\n",
    "models_search_params = {\n",
    "    \"KNN\": {  \n",
    "        'n_neighbors' : [3, 5, 7, 9, 11, 13, 15, 17, 19, 21, 23, 25, 27, 29, 31],\n",
    "        'weights' : ['uniform','distance'],\n",
    "        'metric' : ['minkowski','euclidean','manhattan']\n",
    "     },\n",
    "    \"Logistic Regression\": {\n",
    "        'penalty' : ['l1', 'l2', 'elasticnet'],\n",
    "        'C' : [1000, 100, 10, 1, 0.1, 0.01, 0.001, 0.0001],\n",
    "        'solver' : ['lbfgs','newton-cg','liblinear', 'newton-cholesky', 'sag', 'saga'],\n",
    "        'max_iter' : [100, 1500, 3000]\n",
    "     },\n",
    "    \"Decision Tree\": {\n",
    "        'max_features': [1, 2, 3, 5, 7, 10, 'log2','sqrt', None],\n",
    "        'max_depth': [2, 3, 5, 7, 10, 20, 30, 40, 50, 60, 70, None],\n",
    "        'min_samples_split': [1, 2, 3, 5, 7, 9, 10, 0.1, 0.2, 0.3],\n",
    "        'min_samples_leaf': [1, 2, 3, 5, 7, 9, 10, 0.1, 0.2],\n",
    "     },\n",
    "    \"Random Forest\": {\n",
    "        'max_depth': [2, 5, 10, None],\n",
    "        'max_features': ['log2', 'sqrt', None],\n",
    "    },\n",
    "    \"XgBoost\": {\n",
    "        'learning_rate': [0.01, 0.1, 0.2],\n",
    "        'max_depth': [3, 5, 6, 10],\n",
    "        'subsample': [0.5, 0.7, 1],\n",
    "        'n_estimators': [100, 500]\n",
    "    },\n",
    "    \"SVM\": {\n",
    "        'kernel': ['rbf']\n",
    "    }\n",
    "}"
   ]
  },
  {
   "cell_type": "markdown",
   "id": "0d223358",
   "metadata": {
    "papermill": {
     "duration": 0.009762,
     "end_time": "2023-11-04T08:54:07.012031",
     "exception": false,
     "start_time": "2023-11-04T08:54:07.002269",
     "status": "completed"
    },
    "tags": []
   },
   "source": [
    "# METRICS"
   ]
  },
  {
   "cell_type": "code",
   "execution_count": 10,
   "id": "2b13291d",
   "metadata": {
    "execution": {
     "iopub.execute_input": "2023-11-04T08:54:07.034305Z",
     "iopub.status.busy": "2023-11-04T08:54:07.033907Z",
     "iopub.status.idle": "2023-11-04T08:54:07.043106Z",
     "shell.execute_reply": "2023-11-04T08:54:07.041907Z"
    },
    "papermill": {
     "duration": 0.023658,
     "end_time": "2023-11-04T08:54:07.045650",
     "exception": false,
     "start_time": "2023-11-04T08:54:07.021992",
     "status": "completed"
    },
    "tags": []
   },
   "outputs": [],
   "source": [
    "def g_measure_score(y_test, y_pred):\n",
    "    TN, FP, FN, TP = confusion_matrix(y_test, y_pred).ravel()\n",
    "    FPR = FP/(FP+TN)\n",
    "    recall = recall_score(y_test, y_pred, average='macro')\n",
    "    g_measure = (2*recall*(1-FPR))/(recall+(1-FPR))\n",
    "    return g_measure\n",
    "\n",
    "def bal_score(y_test, y_pred):\n",
    "    TN, FP, FN, TP = confusion_matrix(y_test, y_pred).ravel()\n",
    "    recall = recall_score(y_test, y_pred, average='macro')\n",
    "    FPR = FP/(FP+TN)\n",
    "    PF = FPR\n",
    "    PD = recall\n",
    "    bal = 1 - (math.sqrt((1-PD)*(1-PD)+(0-PF)*(0-PF))/math.sqrt(2))\n",
    "    return bal"
   ]
  },
  {
   "cell_type": "code",
   "execution_count": 11,
   "id": "3c49d61a",
   "metadata": {
    "execution": {
     "iopub.execute_input": "2023-11-04T08:54:07.066806Z",
     "iopub.status.busy": "2023-11-04T08:54:07.066147Z",
     "iopub.status.idle": "2023-11-04T08:54:07.073078Z",
     "shell.execute_reply": "2023-11-04T08:54:07.071830Z"
    },
    "papermill": {
     "duration": 0.020601,
     "end_time": "2023-11-04T08:54:07.075826",
     "exception": false,
     "start_time": "2023-11-04T08:54:07.055225",
     "status": "completed"
    },
    "tags": []
   },
   "outputs": [],
   "source": [
    "def get_best_model_params(X_train, y_train, model):\n",
    "    classifier = models_list[model]\n",
    "    cv = model_selection.StratifiedKFold(n_splits=5, shuffle=True, random_state=42)\n",
    "    grid_obj = RandomizedSearchCV(classifier, models_search_params[model], n_iter = 25, cv = cv, scoring='roc_auc')\n",
    "    grid_obj.fit(X_train, y_train)\n",
    "    best_model_params = grid_obj.best_params_\n",
    "    return best_model_params"
   ]
  },
  {
   "cell_type": "code",
   "execution_count": 12,
   "id": "cc9bc075",
   "metadata": {
    "execution": {
     "iopub.execute_input": "2023-11-04T08:54:07.099152Z",
     "iopub.status.busy": "2023-11-04T08:54:07.098743Z",
     "iopub.status.idle": "2023-11-04T08:54:07.116601Z",
     "shell.execute_reply": "2023-11-04T08:54:07.115699Z"
    },
    "papermill": {
     "duration": 0.032791,
     "end_time": "2023-11-04T08:54:07.118975",
     "exception": false,
     "start_time": "2023-11-04T08:54:07.086184",
     "status": "completed"
    },
    "tags": []
   },
   "outputs": [],
   "source": [
    "def build_model(file_name, X, y, model, feat_algo):\n",
    "    accuracy_scores = []\n",
    "    precision_scores = []\n",
    "    recall_scores = []\n",
    "    f1_scores = []\n",
    "    mcc_scores = []\n",
    "    roc_auc_scores = []\n",
    "    g_measure_scores = []\n",
    "    bal_scores = []\n",
    "\n",
    "    best_model_params = {}\n",
    "    MB = []\n",
    "    \n",
    "    kf = model_selection.StratifiedKFold(n_splits=10, shuffle=True, random_state=42)\n",
    "    for train_index, test_index in kf.split(X, y):\n",
    "        X_train, X_test = X[train_index], X[test_index]\n",
    "        y_train, y_test = y[train_index], y[test_index]\n",
    "        \n",
    "        adasyn = ADASYN()\n",
    "        X_train, y_train = adasyn.fit_resample(X_train, y_train)\n",
    "        \n",
    "        if feat_algo != 'None' and len(MB)<1:\n",
    "            balanced_df = pd.concat([pd.DataFrame(X_train), pd.Series(y_train, name='bug')], axis=1)\n",
    "            MB = features_list[file_name]\n",
    "            print(file_name, feat_algo, balanced_df.shape[1]-1, MB)\n",
    "            \n",
    "        if len(MB) >= 1 and feat_algo != 'None':\n",
    "            X_train = X_train[:, MB]\n",
    "            X_test = X_test[:, MB]\n",
    "        elif feat_algo != 'None':\n",
    "            return [file_name, feat_algo, '--', '--', '--', '--', '--', '--', '--']\n",
    "        \n",
    "#         if not best_model_params:\n",
    "#             best_model_params = get_best_model_params(X_train, y_train, model)\n",
    "#             print(file_name, feat_algo, model, best_model_params)\n",
    "            \n",
    "        classifier = models_list[model]\n",
    "#         classifier.set_params(**best_model_params)\n",
    "        \n",
    "        classifier.fit(X_train, y_train)\n",
    "        y_pred = classifier.predict(X_test)\n",
    "        \n",
    "        \n",
    "        accuracy_scores.append(accuracy_score(y_test, y_pred))\n",
    "        precision_scores.append(precision_score(y_test, y_pred, average='macro'))\n",
    "        recall_scores.append(recall_score(y_test, y_pred, average='macro'))\n",
    "        f1_scores.append(f1_score(y_test, y_pred, average='macro'))\n",
    "        mcc_scores.append(mcc_score(y_test, y_pred))\n",
    "        roc_auc_scores.append(roc_auc_score(y_test, y_pred))\n",
    "        g_measure_scores.append(g_measure_score(y_test, y_pred))\n",
    "        bal_scores.append(bal_score(y_test, y_pred))\n",
    "    \n",
    "    return [file_name, feat_algo, round(np.mean(accuracy_scores),2), round(np.mean(precision_scores), 2), round(np.mean(recall_scores), 2), round(np.mean(f1_scores), 2), round(np.mean(mcc_scores), 2), round(np.mean(roc_auc_scores),2), round(np.mean(g_measure_scores), 2), round(np.mean(bal_scores), 2)]"
   ]
  },
  {
   "cell_type": "markdown",
   "id": "a83e6524",
   "metadata": {
    "papermill": {
     "duration": 0.009191,
     "end_time": "2023-11-04T08:54:07.138085",
     "exception": false,
     "start_time": "2023-11-04T08:54:07.128894",
     "status": "completed"
    },
    "tags": []
   },
   "source": [
    "# TRAINING"
   ]
  },
  {
   "cell_type": "markdown",
   "id": "703818dd",
   "metadata": {
    "papermill": {
     "duration": 0.009243,
     "end_time": "2023-11-04T08:54:07.156784",
     "exception": false,
     "start_time": "2023-11-04T08:54:07.147541",
     "status": "completed"
    },
    "tags": []
   },
   "source": [
    "### TERA-PROMISE-ck"
   ]
  },
  {
   "cell_type": "code",
   "execution_count": 13,
   "id": "47116c3c",
   "metadata": {
    "execution": {
     "iopub.execute_input": "2023-11-04T08:54:07.178481Z",
     "iopub.status.busy": "2023-11-04T08:54:07.177198Z",
     "iopub.status.idle": "2023-11-04T09:19:45.029349Z",
     "shell.execute_reply": "2023-11-04T09:19:45.027968Z"
    },
    "papermill": {
     "duration": 1537.875688,
     "end_time": "2023-11-04T09:19:45.041995",
     "exception": false,
     "start_time": "2023-11-04T08:54:07.166307",
     "status": "completed"
    },
    "tags": []
   },
   "outputs": [
    {
     "name": "stdout",
     "output_type": "stream",
     "text": [
      "---------------- SVM ---------------------------\n",
      "prop-3.csv auto-spear 20 [2, 5, 6, 7, 8, 9, 11, 12, 13, 14, 17, 19]\n",
      "prop-4.csv auto-spear 20 [2, 5, 6, 8, 9, 11, 12, 13, 14, 15, 17, 19]\n",
      "prop-2.csv auto-spear 20 [1, 2, 5, 6, 7, 8, 9, 11, 12, 13, 14, 17, 19]\n",
      "prop-1.csv auto-spear 20 [2, 3, 5, 6, 8, 9, 11, 12, 13, 14, 16, 17, 19]\n",
      "prop-5.csv auto-spear 20 [1, 2, 5, 6, 8, 9, 11, 12, 13, 14, 17, 18]\n",
      "----------  ----------  --------  --------  --------  --------  --------  --------  --------  --------\n",
      "dataset     feat_algo   acc       prec      recall    f1        mcc       roc_auc   g-m       bal\n",
      "prop-3.csv  auto-spear  0.65      0.56      0.63      0.53      0.18      0.63      0.64      0.64\n",
      "--------    --------    --------  --------  --------  --------  --------  --------  --------  --------\n",
      "prop-4.csv  auto-spear  0.75      0.56      0.63      0.56      0.18      0.63      0.7       0.7\n",
      "--------    --------    --------  --------  --------  --------  --------  --------  --------  --------\n",
      "prop-2.csv  auto-spear  0.76      0.56      0.61      0.56      0.16      0.61      0.69      0.69\n",
      "--------    --------    --------  --------  --------  --------  --------  --------  --------  --------\n",
      "prop-1.csv  auto-spear  0.72      0.59      0.65      0.59      0.23      0.65      0.69      0.69\n",
      "--------    --------    --------  --------  --------  --------  --------  --------  --------  --------\n",
      "prop-5.csv  auto-spear  0.64      0.57      0.63      0.55      0.19      0.63      0.64      0.64\n",
      "--------    --------    --------  --------  --------  --------  --------  --------  --------  --------\n",
      "----------  ----------  --------  --------  --------  --------  --------  --------  --------  --------\n"
     ]
    }
   ],
   "source": [
    "folder_path = '/kaggle/input/defect-prediction/TeraPromise-defect-dataset/ck'\n",
    "files_list = get_list_of_csv(folder_path)\n",
    "\n",
    "for model in models_list.keys():\n",
    "    print('----------------',model,'---------------------------')\n",
    "    table = []\n",
    "    table.append([\"dataset\", \"feat_algo\", \"acc\", \"prec\", \"recall\", \"f1\", \"mcc\", \"roc_auc\", \"g-m\", \"bal\"])\n",
    "    for file_name in files_list:\n",
    "        file_path = os.path.join(folder_path, file_name)\n",
    "        df = pd.read_csv(file_path)\n",
    "\n",
    "        if df.shape[0]<=1500:\n",
    "            continue\n",
    "        \n",
    "        df = process_promise_ck_dataset(df)\n",
    "        X = df.drop(columns=[df.columns[-1]]).values\n",
    "        y = df[df.columns[-1]].values\n",
    "        \n",
    "\n",
    "        table.append(build_model(file_name, X, y, model, 'auto-spear'))\n",
    "        table.append(['--------', '--------', '--------', '--------', '--------', '--------', '--------', '--------', '--------', '--------'])\n",
    "    print(tabulate(table))"
   ]
  },
  {
   "cell_type": "markdown",
   "id": "057553bb",
   "metadata": {
    "papermill": {
     "duration": 0.009992,
     "end_time": "2023-11-04T09:19:45.062401",
     "exception": false,
     "start_time": "2023-11-04T09:19:45.052409",
     "status": "completed"
    },
    "tags": []
   },
   "source": [
    "### JIRA"
   ]
  },
  {
   "cell_type": "code",
   "execution_count": 14,
   "id": "50ad1c28",
   "metadata": {
    "execution": {
     "iopub.execute_input": "2023-11-04T09:19:45.087427Z",
     "iopub.status.busy": "2023-11-04T09:19:45.086962Z",
     "iopub.status.idle": "2023-11-04T09:25:42.141673Z",
     "shell.execute_reply": "2023-11-04T09:25:42.140235Z"
    },
    "papermill": {
     "duration": 357.070675,
     "end_time": "2023-11-04T09:25:42.144595",
     "exception": false,
     "start_time": "2023-11-04T09:19:45.073920",
     "status": "completed"
    },
    "tags": []
   },
   "outputs": [
    {
     "name": "stdout",
     "output_type": "stream",
     "text": [
      "---------------- SVM ---------------------------\n",
      "camel-2.11.0.csv auto-spear 65 [0, 4, 5, 6, 10, 11, 12, 14, 15, 19, 20, 22, 34, 38, 39, 40, 44, 46, 47, 50, 53, 60, 62, 64]\n",
      "derby-10.5.1.1.csv auto-spear 65 [0, 4, 5, 6, 10, 11, 14, 15, 19, 20, 22, 29, 34, 37, 38, 39, 40, 41, 43, 44, 47, 52, 53, 58, 60, 62, 64]\n",
      "activemq-5.3.0.csv auto-spear 65 [0, 4, 5, 6, 10, 11, 12, 15, 19, 20, 22, 29, 34, 37, 38, 39, 40, 41, 43, 44, 46, 47, 53, 58, 59, 64]\n",
      "derby-10.3.1.4.csv auto-spear 65 [0, 4, 5, 6, 10, 11, 14, 15, 19, 20, 22, 29, 37, 38, 39, 40, 41, 43, 44, 47, 52, 53, 57, 59, 60, 61, 64]\n",
      "activemq-5.2.0.csv auto-spear 65 [0, 4, 5, 6, 10, 11, 12, 14, 15, 19, 20, 29, 34, 37, 38, 39, 40, 41, 43, 44, 47, 53, 58, 59, 64]\n",
      "hive-0.12.0.csv auto-spear 65 [0, 4, 5, 11, 14, 19, 20, 29, 34, 37, 38, 39, 40, 41, 43, 44, 46, 47, 50, 52, 53, 60, 61, 62, 63, 64]\n",
      "camel-2.10.0.csv auto-spear 65 [0, 4, 5, 6, 10, 11, 12, 14, 19, 20, 22, 34, 38, 39, 40, 41, 44, 46, 47, 50, 53, 60, 62, 64]\n",
      "derby-10.2.1.6.csv auto-spear 65 [0, 4, 5, 6, 10, 11, 14, 15, 19, 20, 22, 29, 34, 37, 38, 39, 40, 41, 43, 44, 47, 52, 53, 57, 59, 61, 64]\n",
      "hbase-0.95.0.csv auto-spear 65 [4, 5, 11, 14, 19, 29, 34, 37, 38, 39, 40, 41, 43, 44, 46, 47, 50, 52, 53, 57, 60, 61, 62, 63, 64]\n",
      "hive-0.10.0.csv auto-spear 65 [0, 5, 11, 14, 19, 20, 29, 34, 37, 38, 39, 40, 41, 43, 44, 47, 50, 52, 53, 60, 61, 62, 64]\n",
      "camel-2.9.0.csv auto-spear 65 [0, 4, 5, 6, 10, 11, 12, 14, 19, 20, 22, 34, 38, 39, 40, 41, 44, 46, 47, 50, 53, 60, 61, 62, 64]\n",
      "camel-1.4.0.csv auto-spear 65 [0, 4, 5, 6, 10, 11, 12, 14, 15, 19, 20, 22, 34, 38, 39, 40, 41, 44, 47, 53, 59, 60, 61, 63, 64]\n",
      "activemq-5.1.0.csv auto-spear 65 [0, 4, 5, 6, 10, 11, 12, 15, 19, 20, 22, 29, 34, 37, 38, 39, 40, 41, 43, 44, 46, 47, 53, 59, 60, 64]\n",
      "jruby-1.7.0.preview1.csv auto-spear 65 [0, 4, 5, 6, 10, 11, 14, 15, 19, 20, 29, 34, 37, 38, 39, 40, 41, 43, 44, 46, 47, 50, 52, 53, 58, 60, 61, 62, 64]\n",
      "wicket-1.3.0-incubating-beta-1.csv auto-spear 65 [0, 4, 5, 10, 11, 12, 14, 15, 19, 20, 29, 34, 37, 38, 39, 40, 41, 43, 44, 47, 53, 58, 60, 61, 62, 64]\n",
      "hbase-0.95.2.csv auto-spear 65 [4, 5, 6, 11, 14, 19, 29, 34, 37, 38, 39, 40, 41, 43, 44, 46, 47, 50, 52, 53, 57, 60, 61, 62, 63, 64]\n",
      "activemq-5.0.0.csv auto-spear 65 [0, 4, 5, 6, 10, 11, 12, 15, 19, 20, 22, 29, 34, 37, 38, 39, 40, 41, 43, 44, 47, 53, 55, 59, 60, 61, 64]\n",
      "activemq-5.8.0.csv auto-spear 65 [0, 4, 5, 10, 11, 12, 15, 19, 20, 22, 29, 34, 37, 38, 39, 40, 41, 43, 44, 46, 47, 50, 58, 59, 60, 64]\n",
      "wicket-1.3.0-beta2.csv auto-spear 65 [0, 4, 5, 10, 11, 12, 14, 15, 19, 20, 29, 34, 37, 38, 39, 40, 41, 43, 44, 47, 53, 58, 60, 61, 62, 64]\n",
      "lucene-3.1.csv auto-spear 65 [0, 4, 5, 6, 10, 14, 15, 19, 20, 22, 29, 34, 37, 38, 39, 40, 41, 43, 44, 46, 47, 52, 53, 60, 61, 62, 64]\n",
      "wicket-1.5.3.csv auto-spear 65 [0, 4, 5, 10, 11, 12, 15, 19, 20, 22, 29, 34, 37, 38, 39, 40, 41, 43, 44, 47, 50, 53, 59, 60, 61, 64]\n",
      "----------------------------------  ----------  --------  --------  --------  --------  --------  --------  --------  --------\n",
      "dataset                             feat_algo   acc       prec      recall    f1        mcc       roc_auc   g-m       bal\n",
      "camel-2.11.0.csv                    auto-spear  0.85      0.54      0.76      0.54      0.21      0.76      0.8       0.8\n",
      "--------                            --------    --------  --------  --------  --------  --------  --------  --------  --------\n",
      "derby-10.5.1.1.csv                  auto-spear  0.75      0.63      0.71      0.64      0.33      0.71      0.74      0.74\n",
      "--------                            --------    --------  --------  --------  --------  --------  --------  --------  --------\n",
      "activemq-5.3.0.csv                  auto-spear  0.67      0.58      0.69      0.55      0.24      0.69      0.67      0.67\n",
      "--------                            --------    --------  --------  --------  --------  --------  --------  --------  --------\n",
      "derby-10.3.1.4.csv                  auto-spear  0.74      0.7       0.7       0.69      0.39      0.7       0.75      0.75\n",
      "--------                            --------    --------  --------  --------  --------  --------  --------  --------  --------\n",
      "activemq-5.2.0.csv                  auto-spear  0.8       0.63      0.74      0.65      0.36      0.74      0.78      0.78\n",
      "--------                            --------    --------  --------  --------  --------  --------  --------  --------  --------\n",
      "hive-0.12.0.csv                     auto-spear  0.79      0.55      0.61      0.55      0.15      0.61      0.7       0.69\n",
      "--------                            --------    --------  --------  --------  --------  --------  --------  --------  --------\n",
      "camel-2.10.0.csv                    auto-spear  0.84      0.55      0.73      0.55      0.21      0.73      0.79      0.78\n",
      "--------                            --------    --------  --------  --------  --------  --------  --------  --------  --------\n",
      "derby-10.2.1.6.csv                  auto-spear  0.76      0.74      0.73      0.73      0.47      0.73      0.78      0.77\n",
      "--------                            --------    --------  --------  --------  --------  --------  --------  --------  --------\n",
      "hbase-0.95.0.csv                    auto-spear  0.73      0.62      0.61      0.61      0.23      0.61      0.7       0.7\n",
      "--------                            --------    --------  --------  --------  --------  --------  --------  --------  --------\n",
      "hive-0.10.0.csv                     auto-spear  0.8       0.63      0.73      0.65      0.35      0.73      0.77      0.77\n",
      "--------                            --------    --------  --------  --------  --------  --------  --------  --------  --------\n",
      "camel-2.9.0.csv                     auto-spear  0.86      0.56      0.76      0.57      0.25      0.76      0.81      0.81\n",
      "--------                            --------    --------  --------  --------  --------  --------  --------  --------  --------\n",
      "camel-1.4.0.csv                     auto-spear  0.72      0.64      0.7       0.64      0.33      0.7       0.72      0.71\n",
      "--------                            --------    --------  --------  --------  --------  --------  --------  --------  --------\n",
      "activemq-5.1.0.csv                  auto-spear  0.68      0.57      0.71      0.53      0.24      0.71      0.69      0.69\n",
      "--------                            --------    --------  --------  --------  --------  --------  --------  --------  --------\n",
      "jruby-1.7.0.preview1.csv            auto-spear  0.91      0.63      0.69      0.65      0.32      0.69      0.8       0.78\n",
      "--------                            --------    --------  --------  --------  --------  --------  --------  --------  --------\n",
      "wicket-1.3.0-incubating-beta-1.csv  auto-spear  0.78      0.58      0.74      0.58      0.27      0.74      0.76      0.76\n",
      "--------                            --------    --------  --------  --------  --------  --------  --------  --------  --------\n",
      "hbase-0.95.2.csv                    auto-spear  0.74      0.66      0.61      0.62      0.27      0.61      0.73      0.72\n",
      "--------                            --------    --------  --------  --------  --------  --------  --------  --------  --------\n",
      "activemq-5.0.0.csv                  auto-spear  0.78      0.66      0.75      0.68      0.4       0.75      0.77      0.77\n",
      "--------                            --------    --------  --------  --------  --------  --------  --------  --------  --------\n",
      "activemq-5.8.0.csv                  auto-spear  0.6       0.55      0.7       0.46      0.2       0.7       0.64      0.64\n",
      "--------                            --------    --------  --------  --------  --------  --------  --------  --------  --------\n",
      "wicket-1.3.0-beta2.csv              auto-spear  0.75      0.57      0.7       0.56      0.24      0.7       0.73      0.73\n",
      "--------                            --------    --------  --------  --------  --------  --------  --------  --------  --------\n",
      "lucene-3.1.csv                      auto-spear  0.74      0.53      0.69      0.5       0.16      0.69      0.71      0.71\n",
      "--------                            --------    --------  --------  --------  --------  --------  --------  --------  --------\n",
      "wicket-1.5.3.csv                    auto-spear  0.77      0.54      0.67      0.52      0.16      0.67      0.72      0.72\n",
      "--------                            --------    --------  --------  --------  --------  --------  --------  --------  --------\n",
      "----------------------------------  ----------  --------  --------  --------  --------  --------  --------  --------  --------\n"
     ]
    }
   ],
   "source": [
    "folder_path = '/kaggle/input/defect-prediction/JIRA-defect-dataset'\n",
    "files_list = get_list_of_csv(folder_path)\n",
    "\n",
    "for model in models_list.keys():\n",
    "    print('----------------',model,'---------------------------')\n",
    "    table = []\n",
    "    table.append([\"dataset\", \"feat_algo\", \"acc\", \"prec\", \"recall\", \"f1\", \"mcc\", \"roc_auc\", \"g-m\", \"bal\"])\n",
    "    for file_name in files_list:\n",
    "        file_path = os.path.join(folder_path, file_name)\n",
    "        df = pd.read_csv(file_path)\n",
    "\n",
    "        if df.shape[0]<=1500:\n",
    "            continue\n",
    "        \n",
    "        df = process_jira_dataset(df)\n",
    "        X = df.drop(columns=[df.columns[-1]]).values\n",
    "        y = df[df.columns[-1]].values\n",
    "        \n",
    "        table.append(build_model(file_name, X, y, model, 'auto-spear'))\n",
    "        table.append(['--------', '--------', '--------', '--------', '--------', '--------', '--------', '--------', '--------', '--------'])\n",
    "    print(tabulate(table))"
   ]
  },
  {
   "cell_type": "markdown",
   "id": "0ec7ddac",
   "metadata": {
    "papermill": {
     "duration": 0.012318,
     "end_time": "2023-11-04T09:25:42.169811",
     "exception": false,
     "start_time": "2023-11-04T09:25:42.157493",
     "status": "completed"
    },
    "tags": []
   },
   "source": [
    "### AEEEM Defect Dataset"
   ]
  },
  {
   "cell_type": "code",
   "execution_count": 15,
   "id": "72384295",
   "metadata": {
    "execution": {
     "iopub.execute_input": "2023-11-04T09:25:42.197112Z",
     "iopub.status.busy": "2023-11-04T09:25:42.196620Z",
     "iopub.status.idle": "2023-11-04T09:25:45.675340Z",
     "shell.execute_reply": "2023-11-04T09:25:45.673941Z"
    },
    "papermill": {
     "duration": 3.495835,
     "end_time": "2023-11-04T09:25:45.678269",
     "exception": false,
     "start_time": "2023-11-04T09:25:42.182434",
     "status": "completed"
    },
    "tags": []
   },
   "outputs": [
    {
     "name": "stdout",
     "output_type": "stream",
     "text": [
      "---------------- SVM ---------------------------\n",
      "mylyn.csv auto-spear 15 [1, 2, 3, 9, 11, 12, 13]\n",
      "---------  ----------  --------  --------  --------  --------  --------  --------  --------  --------\n",
      "dataset    feat_algo   acc       prec      recall    f1        mcc       roc_auc   g-m       bal\n",
      "mylyn.csv  auto-spear  0.62      0.59      0.68      0.54      0.25      0.68      0.64      0.64\n",
      "--------   --------    --------  --------  --------  --------  --------  --------  --------  --------\n",
      "---------  ----------  --------  --------  --------  --------  --------  --------  --------  --------\n"
     ]
    }
   ],
   "source": [
    "folder_path = '/kaggle/input/defect-prediction/AEEEM-defect-dataset'\n",
    "files_list = get_list_of_csv(folder_path)\n",
    "\n",
    "for model in models_list.keys():\n",
    "    print('----------------',model,'---------------------------')\n",
    "    table = []\n",
    "    table.append([\"dataset\", \"feat_algo\", \"acc\", \"prec\", \"recall\", \"f1\", \"mcc\", \"roc_auc\", \"g-m\", \"bal\"])\n",
    "    for file_name in files_list:\n",
    "        file_path = os.path.join(folder_path, file_name)\n",
    "        df = pd.read_csv(file_path, delimiter=';')\n",
    "        \n",
    "        if df.shape[0]<=1500:\n",
    "            continue\n",
    "            \n",
    "        df = process_aeeem_dataset(df)\n",
    "        X = df.drop(columns=[df.columns[-1]]).values\n",
    "        y = df[df.columns[-1]].values\n",
    "        \n",
    "        table.append(build_model(file_name, X, y, model, 'auto-spear'))\n",
    "        table.append(['--------', '--------', '--------', '--------', '--------', '--------', '--------', '--------', '--------', '--------'])\n",
    "    print(tabulate(table))"
   ]
  },
  {
   "cell_type": "code",
   "execution_count": null,
   "id": "2b4fa607",
   "metadata": {
    "papermill": {
     "duration": 0.013241,
     "end_time": "2023-11-04T09:25:45.704275",
     "exception": false,
     "start_time": "2023-11-04T09:25:45.691034",
     "status": "completed"
    },
    "tags": []
   },
   "outputs": [],
   "source": []
  }
 ],
 "metadata": {
  "kernelspec": {
   "display_name": "Python 3",
   "language": "python",
   "name": "python3"
  },
  "language_info": {
   "codemirror_mode": {
    "name": "ipython",
    "version": 3
   },
   "file_extension": ".py",
   "mimetype": "text/x-python",
   "name": "python",
   "nbconvert_exporter": "python",
   "pygments_lexer": "ipython3",
   "version": "3.10.12"
  },
  "papermill": {
   "default_parameters": {},
   "duration": 1924.872841,
   "end_time": "2023-11-04T09:25:46.444031",
   "environment_variables": {},
   "exception": null,
   "input_path": "__notebook__.ipynb",
   "output_path": "__notebook__.ipynb",
   "parameters": {},
   "start_time": "2023-11-04T08:53:41.571190",
   "version": "2.4.0"
  }
 },
 "nbformat": 4,
 "nbformat_minor": 5
}
